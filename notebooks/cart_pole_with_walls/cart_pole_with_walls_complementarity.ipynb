{
 "cells": [
  {
   "cell_type": "code",
   "execution_count": 1,
   "metadata": {},
   "outputs": [
    {
     "name": "stdout",
     "output_type": "stream",
     "text": [
      "Matrix([[qc + 0.05*vc], [qp + 0.075*vc - 0.025*vp], [vc], [1.5*vc - 0.5*vp]])\n",
      "Matrix([[qc + 0.05*vc], [qp + 0.075*vc - 0.025*vp], [vc], [1.5*vc - 0.5*vp]])\n",
      "You can open the visualizer by visiting the following URL:\n",
      "http://127.0.0.1:7002/static/\n"
     ]
    }
   ],
   "source": [
    "# notebook settings\n",
    "%load_ext autoreload\n",
    "%autoreload 2\n",
    "# %matplotlib notebook\n",
    "\n",
    "# external imports\n",
    "import numpy as np\n",
    "import sympy as sp\n",
    "# from scipy.linalg import solve_discrete_are\n",
    "import matplotlib.pyplot as plt\n",
    "\n",
    "# internal imports\n",
    "from mld_dynamics_complementarity import mld, h_nom, simulate\n",
    "from warm_start_hmpc.controller import HybridModelPredictiveController\n",
    "from warm_start_hmpc.mcais import mcais, solve_dare\n",
    "from visualizer import vis, animate"
   ]
  },
  {
   "cell_type": "code",
   "execution_count": null,
   "metadata": {},
   "outputs": [],
   "source": [
    "# controller horizon\n",
    "T = 20\n",
    "\n",
    "# weight matrices\n",
    "h = h_nom\n",
    "C = np.eye(mld.nx) * h\n",
    "D = np.vstack([1.]+[0.]*(mld.nu - 1)).T * h\n",
    "\n",
    "# # terminal cost\n",
    "# Bu = mld.B[:,0:1]\n",
    "# Du = D[:,0:1]\n",
    "# P = solve_discrete_are(mld.A, Bu, C.T.dot(C), Du.T.dot(Du))\n",
    "# C_T = np.linalg.cholesky(P).T\n",
    "# C_T = C\n",
    "# objective = [C, D, C_T]\n",
    "\n",
    "# # terminal constraints\n",
    "# F_T = np.vstack((np.eye(mld.nx), - np.eye(mld.nx)))\n",
    "# h_T = np.concatenate((x_max, x_max))\n",
    "# terminal_set = [F_T, h_T]"
   ]
  },
  {
   "cell_type": "code",
   "execution_count": null,
   "metadata": {},
   "outputs": [],
   "source": [
    "from pympc.dynamics.discrete_time_systems import LinearSystem\n",
    "from pympc.geometry.polyhedron import Polyhedron\n",
    "\n",
    "# LQR cost to go\n",
    "Bu = mld.B[:,0:1]\n",
    "Du = D[:,0:1]\n",
    "P, K = solve_dare(mld.A, Bu, C.dot(C), Du.dot(Du))\n",
    "C_T = np.linalg.cholesky(P).T\n",
    "objective = [C, D, C_T]\n",
    "\n",
    "# # mcais terminal set\n",
    "# domain = Polyhedron(\n",
    "#     np.hstack((mld.F, mld.G[:,0:1])),\n",
    "#     mld.h\n",
    "# )\n",
    "# X_T = S.mcais(K, domain, verbose=True)\n",
    "# terminal_set = [X_T.A, X_T.b]"
   ]
  },
  {
   "cell_type": "code",
   "execution_count": null,
   "metadata": {},
   "outputs": [],
   "source": [
    "A_cl = mld.A + Bu.dot(K)\n",
    "lhs = mld.F[:-2] + mld.G[:-2,0:1].dot(K)\n",
    "rhs = mld.h[:-2]\n",
    "terminal_set = mcais(A_cl, lhs, rhs, verbose=True)"
   ]
  },
  {
   "cell_type": "code",
   "execution_count": null,
   "metadata": {},
   "outputs": [],
   "source": [
    "# hybrid controller\n",
    "controller = HybridModelPredictiveController(mld, T, objective, terminal_set)\n",
    "\n",
    "# initial push towards the right wall\n",
    "x0 = np.array([0., 0., 1., 0.])"
   ]
  },
  {
   "cell_type": "markdown",
   "metadata": {},
   "source": [
    "## Open-loop solution"
   ]
  },
  {
   "cell_type": "code",
   "execution_count": null,
   "metadata": {},
   "outputs": [],
   "source": [
    "# solve in open loop\n",
    "solution, leaves = controller.feedforward(\n",
    "    x0,\n",
    "    draw_label='Cart pole with walls'\n",
    ")"
   ]
  },
  {
   "cell_type": "code",
   "execution_count": null,
   "metadata": {},
   "outputs": [],
   "source": [
    "x_gurobi, obj_gurobi = controller.feedforward_gurobi(x0)"
   ]
  },
  {
   "cell_type": "code",
   "execution_count": null,
   "metadata": {},
   "outputs": [],
   "source": [
    "vis.jupyter_cell()"
   ]
  },
  {
   "cell_type": "code",
   "execution_count": null,
   "metadata": {},
   "outputs": [],
   "source": [
    "animate(solution.variables['x'], h*10)"
   ]
  },
  {
   "cell_type": "markdown",
   "metadata": {},
   "source": [
    "## Solve with and without warm start"
   ]
  },
  {
   "cell_type": "code",
   "execution_count": null,
   "metadata": {},
   "outputs": [],
   "source": [
    "e0 = np.random.randn(mld.nx) * 0.\n",
    "uc0 = solution.variables['uc'][0]\n",
    "ub0 = solution.variables['ub'][0]\n",
    "warm_start = controller.construct_warm_start(leaves, x0, uc0, ub0, e0)"
   ]
  },
  {
   "cell_type": "code",
   "execution_count": null,
   "metadata": {},
   "outputs": [],
   "source": [
    "u0 = np.concatenate((uc0, ub0))\n",
    "x1 = mld.A.dot(x0) + mld.B.dot(u0) + e0\n",
    "solution, leaves = controller.feedforward(\n",
    "    x1,\n",
    "    warm_start=warm_start,\n",
    "#     draw_label='Cart pole with walls warm start'\n",
    ")"
   ]
  },
  {
   "cell_type": "code",
   "execution_count": null,
   "metadata": {},
   "outputs": [],
   "source": [
    "solution, leaves = controller.feedforward(x1)"
   ]
  },
  {
   "cell_type": "markdown",
   "metadata": {},
   "source": [
    "## Solve in closed loop"
   ]
  },
  {
   "cell_type": "code",
   "execution_count": null,
   "metadata": {},
   "outputs": [],
   "source": [
    "from visualizer import vis, visualize\n",
    "vis.jupyter_cell()"
   ]
  },
  {
   "cell_type": "code",
   "execution_count": null,
   "metadata": {},
   "outputs": [],
   "source": [
    "# np.random.seed(1)\n",
    "\n",
    "# set up simulation\n",
    "T_sim = 30\n",
    "x_sim = [x0]\n",
    "u_sim = []\n",
    "warm_start = None\n",
    "\n",
    "for t in range(T_sim):\n",
    "    print('Time step %d.'%t)\n",
    "    \n",
    "    # solve miqp\n",
    "    solution, leaves = controller.feedforward(\n",
    "        x_sim[-1],\n",
    "        warm_start=warm_start,\n",
    "#         printing_period=None\n",
    "    )\n",
    "    \n",
    "    # reorganize solution\n",
    "    uc0 = solution.variables['uc'][0]\n",
    "    ub0 = solution.variables['ub'][0]\n",
    "    u0 = np.concatenate((uc0, ub0))\n",
    "    x1 = simulate(x_sim[-1], h, uc0[0])[-1]\n",
    "#     x1 = solution.variables['x'][1]\n",
    "    e0 = x1 - mld.A.dot(x_sim[-1]) - mld.B.dot(u0)\n",
    "    print('predicted state:', solution.variables['x'][1])\n",
    "    print('true state:', x1)\n",
    "    print('modeling error:', e0)\n",
    "    visualize(x1)\n",
    "    \n",
    "    # generate warm start\n",
    "    warm_start = controller.construct_warm_start(leaves, x_sim[-1], uc0, ub0, e0)\n",
    "    \n",
    "    # retrieve closed-loop trajectory\n",
    "    x_sim.append(x1)\n",
    "    u_sim.append(uc0)"
   ]
  },
  {
   "cell_type": "markdown",
   "metadata": {},
   "source": [
    "## Animation"
   ]
  },
  {
   "cell_type": "code",
   "execution_count": null,
   "metadata": {},
   "outputs": [],
   "source": [
    "from visualizer import vis, animate\n",
    "vis.jupyter_cell()"
   ]
  },
  {
   "cell_type": "code",
   "execution_count": null,
   "metadata": {},
   "outputs": [],
   "source": [
    "x0 = np.array([0., 0., 1., 0.])\n",
    "x_sim, h = simulate(x0, 5.)\n",
    "animate(x_sim, h)"
   ]
  },
  {
   "cell_type": "code",
   "execution_count": null,
   "metadata": {},
   "outputs": [],
   "source": []
  }
 ],
 "metadata": {
  "kernelspec": {
   "display_name": "Python 3",
   "language": "python",
   "name": "python3"
  },
  "language_info": {
   "codemirror_mode": {
    "name": "ipython",
    "version": 3
   },
   "file_extension": ".py",
   "mimetype": "text/x-python",
   "name": "python",
   "nbconvert_exporter": "python",
   "pygments_lexer": "ipython3",
   "version": "3.7.3"
  }
 },
 "nbformat": 4,
 "nbformat_minor": 2
}
