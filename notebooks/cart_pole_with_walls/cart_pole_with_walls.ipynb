{
 "cells": [
  {
   "cell_type": "code",
   "execution_count": null,
   "metadata": {},
   "outputs": [],
   "source": [
    "# notebook settings\n",
    "%load_ext autoreload\n",
    "%autoreload 2\n",
    "# %matplotlib notebook\n",
    "\n",
    "# external imports\n",
    "import numpy as np\n",
    "import sympy as sp\n",
    "# from scipy.linalg import solve_discrete_are\n",
    "import matplotlib.pyplot as plt\n",
    "\n",
    "# internal imports\n",
    "from controller import controller\n",
    "from nonlinear_dynamics import simulate\n",
    "from mld_dynamics import mld, h\n",
    "from visualizer import vis, animate"
   ]
  },
  {
   "cell_type": "markdown",
   "metadata": {},
   "source": [
    "## Open-loop solution"
   ]
  },
  {
   "cell_type": "code",
   "execution_count": null,
   "metadata": {},
   "outputs": [],
   "source": [
    "# initial push towards the right wall\n",
    "x0 = np.array([0., 0., 1., 0.])"
   ]
  },
  {
   "cell_type": "code",
   "execution_count": null,
   "metadata": {},
   "outputs": [],
   "source": [
    "# solve in open loop\n",
    "# options = {'OptimalityTol': 1e-06, 'Presolve': 0, 'Heuristics': 0}\n",
    "from time import time\n",
    "tic = time()\n",
    "solution, leaves, nodes, solver_time = controller.feedforward(\n",
    "    x0,\n",
    "    printing_period=None,\n",
    "    gurobi_params={'OutputFlag': 0, 'Method': 1} # dual simplex\n",
    "#     draw_label='Cart pole with walls'\n",
    ")\n",
    "print(time()-tic)\n",
    "solver_time"
   ]
  },
  {
   "cell_type": "code",
   "execution_count": null,
   "metadata": {},
   "outputs": [],
   "source": [
    "import cProfile\n",
    "gurobi_params={'OutputFlag': 0, 'Method': 1}\n",
    "cProfile.run('controller.feedforward(x0, printing_period=None, gurobi_params=gurobi_params)')"
   ]
  },
  {
   "cell_type": "code",
   "execution_count": null,
   "metadata": {},
   "outputs": [],
   "source": [
    "# options = {'OutputFlag': 1, 'MIPGap': 0, 'Presolve': 0, 'Heuristics': 0}\n",
    "options = {'OutputFlag': 0}\n",
    "variables_gurobi, obj_gurobi, nodes_gurobi, solver_time = controller.feedforward_gurobi(x0, options)\n",
    "solver_time"
   ]
  },
  {
   "cell_type": "code",
   "execution_count": null,
   "metadata": {},
   "outputs": [],
   "source": [
    "vis.jupyter_cell()"
   ]
  },
  {
   "cell_type": "code",
   "execution_count": null,
   "metadata": {},
   "outputs": [],
   "source": [
    "animate(solution.variables['x'], h)"
   ]
  },
  {
   "cell_type": "markdown",
   "metadata": {},
   "source": [
    "## Solve with and without warm start"
   ]
  },
  {
   "cell_type": "code",
   "execution_count": null,
   "metadata": {
    "scrolled": true
   },
   "outputs": [],
   "source": [
    "e0 = np.random.randn(mld.nx) * 0.\n",
    "uc0 = solution.variables['uc'][0]\n",
    "ub0 = solution.variables['ub'][0]\n",
    "x1 = solution.variables['x'][1]\n",
    "warm_start, ws_time, interstep_time = controller.construct_warm_start(leaves, x0, uc0, ub0, e0)\n",
    "interstep_time"
   ]
  },
  {
   "cell_type": "code",
   "execution_count": null,
   "metadata": {},
   "outputs": [],
   "source": [
    "import cProfile\n",
    "e0 = np.random.randn(mld.nx) * 0.\n",
    "uc0 = solution.variables['uc'][0]\n",
    "ub0 = solution.variables['ub'][0]\n",
    "cProfile.run('controller.construct_warm_start(leaves, x0, uc0, ub0, e0)')"
   ]
  },
  {
   "cell_type": "code",
   "execution_count": null,
   "metadata": {},
   "outputs": [],
   "source": [
    "solution, leaves, nodes, solver_time = controller.feedforward(\n",
    "    x1,\n",
    "    warm_start=warm_start,\n",
    "    gurobi_options={'Method': 1}, # dual simplex\n",
    "#     draw_label='Cart pole with walls warm start'\n",
    ")\n",
    "solver_time"
   ]
  },
  {
   "cell_type": "code",
   "execution_count": null,
   "metadata": {},
   "outputs": [],
   "source": [
    "import cProfile\n",
    "gurobi_params={'OutputFlag': 0, 'Method': 1}\n",
    "cProfile.run('controller.feedforward(x1, printing_period=None, warm_start=warm_start, gurobi_params=gurobi_params)')"
   ]
  },
  {
   "cell_type": "code",
   "execution_count": null,
   "metadata": {},
   "outputs": [],
   "source": [
    "solution, leaves, nodes, solver_time = controller.feedforward(x1)\n",
    "solver_time"
   ]
  },
  {
   "cell_type": "code",
   "execution_count": null,
   "metadata": {},
   "outputs": [],
   "source": [
    "ub_shifted = controller.shift_binary_solution(variables_gurobi['ub'])\n",
    "options = {'OutputFlag': 0}\n",
    "variables_gurobi_1, obj_gurobi, nodes_gurobi, solver_time = controller.feedforward_gurobi(x1, options, ub_shifted)\n",
    "solver_time"
   ]
  },
  {
   "cell_type": "code",
   "execution_count": null,
   "metadata": {},
   "outputs": [],
   "source": []
  }
 ],
 "metadata": {
  "kernelspec": {
   "display_name": "Python 3",
   "language": "python",
   "name": "python3"
  },
  "language_info": {
   "codemirror_mode": {
    "name": "ipython",
    "version": 3
   },
   "file_extension": ".py",
   "mimetype": "text/x-python",
   "name": "python",
   "nbconvert_exporter": "python",
   "pygments_lexer": "ipython3",
   "version": "3.7.7"
  }
 },
 "nbformat": 4,
 "nbformat_minor": 2
}
