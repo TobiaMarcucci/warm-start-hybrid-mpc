{
 "cells": [
  {
   "cell_type": "code",
   "execution_count": null,
   "metadata": {},
   "outputs": [],
   "source": [
    "# notebook settings\n",
    "%load_ext autoreload\n",
    "%autoreload 2\n",
    "# %matplotlib notebook\n",
    "\n",
    "# external imports\n",
    "import numpy as np\n",
    "import sympy as sp\n",
    "# from scipy.linalg import solve_discrete_are\n",
    "import matplotlib.pyplot as plt\n",
    "\n",
    "# internal imports\n",
    "from nonlinear_dynamics import simulate\n",
    "from mld_dynamics import mld, h\n",
    "from warm_start_hmpc.controller import HybridModelPredictiveController\n",
    "from warm_start_hmpc.mcais import mcais, solve_dare\n",
    "from visualizer import vis, animate"
   ]
  },
  {
   "cell_type": "code",
   "execution_count": null,
   "metadata": {},
   "outputs": [],
   "source": [
    "from pympc.dynamics.discrete_time_systems import LinearSystem\n",
    "from pympc.geometry.polyhedron import Polyhedron\n",
    "\n",
    "# controller horizon\n",
    "T = 20\n",
    "\n",
    "# weight matrices\n",
    "Q = np.eye(mld.nx) * h\n",
    "R = np.vstack([1.]+[0.]*(mld.nu - 1)).T * h\n",
    "\n",
    "# LQR terminal cost\n",
    "Bu = mld.B[:, :1]\n",
    "Ru = R[:, :1]\n",
    "P, K = solve_dare(mld.A, Bu, Q.dot(Q), Ru.dot(Ru))\n",
    "Q_T = np.linalg.cholesky(P).T\n",
    "objective = [Q, R, Q_T]\n",
    "\n",
    "# MCAIS terminal set\n",
    "A_cl = mld.A + Bu.dot(K)\n",
    "lhs = mld.F + mld.G[:, :1].dot(K)\n",
    "rhs = mld.h\n",
    "terminal_set = mcais(A_cl, lhs, rhs, verbose=True)\n",
    "\n",
    "# hybrid controller\n",
    "controller = HybridModelPredictiveController(mld, T, objective, terminal_set)"
   ]
  },
  {
   "cell_type": "markdown",
   "metadata": {},
   "source": [
    "## Open-loop solution"
   ]
  },
  {
   "cell_type": "code",
   "execution_count": null,
   "metadata": {},
   "outputs": [],
   "source": [
    "# initial push towards the right wall\n",
    "x0 = np.array([0., 0., 1., 0.])"
   ]
  },
  {
   "cell_type": "code",
   "execution_count": null,
   "metadata": {},
   "outputs": [],
   "source": [
    "# solve in open loop\n",
    "solution, leaves = controller.feedforward(\n",
    "    x0,\n",
    "    draw_label='Cart pole with walls'\n",
    ")[:2]"
   ]
  },
  {
   "cell_type": "code",
   "execution_count": null,
   "metadata": {},
   "outputs": [],
   "source": [
    "x_gurobi, obj_gurobi = controller.feedforward_gurobi(x0)"
   ]
  },
  {
   "cell_type": "code",
   "execution_count": null,
   "metadata": {},
   "outputs": [],
   "source": [
    "vis.jupyter_cell()"
   ]
  },
  {
   "cell_type": "code",
   "execution_count": null,
   "metadata": {},
   "outputs": [],
   "source": [
    "animate(solution.variables['x'], h)"
   ]
  },
  {
   "cell_type": "markdown",
   "metadata": {},
   "source": [
    "## Solve with and without warm start"
   ]
  },
  {
   "cell_type": "code",
   "execution_count": null,
   "metadata": {},
   "outputs": [],
   "source": [
    "e0 = np.random.randn(mld.nx) * 0.\n",
    "uc0 = solution.variables['uc'][0]\n",
    "ub0 = solution.variables['ub'][0]\n",
    "warm_start = controller.construct_warm_start(leaves, x0, uc0, ub0, e0)"
   ]
  },
  {
   "cell_type": "code",
   "execution_count": null,
   "metadata": {},
   "outputs": [],
   "source": [
    "u0 = np.concatenate((uc0, ub0))\n",
    "x1 = mld.A.dot(x0) + mld.B.dot(u0) + e0\n",
    "solution, leaves = controller.feedforward(\n",
    "    x1,\n",
    "    warm_start=warm_start,\n",
    "#     draw_label='Cart pole with walls warm start'\n",
    ")"
   ]
  },
  {
   "cell_type": "code",
   "execution_count": null,
   "metadata": {},
   "outputs": [],
   "source": [
    "solution, leaves = controller.feedforward(x1)"
   ]
  },
  {
   "cell_type": "markdown",
   "metadata": {},
   "source": [
    "## Solve in closed loop"
   ]
  },
  {
   "cell_type": "code",
   "execution_count": null,
   "metadata": {},
   "outputs": [],
   "source": [
    "from visualizer import vis, visualize\n",
    "vis.jupyter_cell()"
   ]
  },
  {
   "cell_type": "code",
   "execution_count": null,
   "metadata": {},
   "outputs": [],
   "source": [
    "# np.random.seed(1)\n",
    "\n",
    "# set up simulation\n",
    "T_sim = 60\n",
    "x_true = [x0]\n",
    "x_sim = []\n",
    "x_predicted = []\n",
    "u_sim = []\n",
    "warm_start = None\n",
    "\n",
    "for t in range(T_sim):\n",
    "    print('Time step %d.'%t)\n",
    "    \n",
    "    # solve miqp\n",
    "    solution, leaves = controller.feedforward(\n",
    "        x_true[-1],\n",
    "        warm_start=warm_start,\n",
    "#         printing_period=None\n",
    "    )[:2]\n",
    "    \n",
    "    # reorganize solution\n",
    "    uc0 = solution.variables['uc'][0]\n",
    "    ub0 = solution.variables['ub'][0]\n",
    "    u0 = np.concatenate((uc0, ub0))\n",
    "    x_sim_t = simulate(x_true[-1], h, uc0[0])\n",
    "    x1 = x_sim_t[-1]\n",
    "#     x1 = solution.variables['x'][1]\n",
    "    e0 = x1 - mld.A.dot(x_true[-1]) - mld.B.dot(u0)\n",
    "    print('predicted state:', solution.variables['x'][1])\n",
    "    print('true state:', x1)\n",
    "    print('modeling error:', e0)\n",
    "#     visualize(x1)\n",
    "    \n",
    "    # generate warm start\n",
    "    warm_start = controller.construct_warm_start(leaves, x_true[-1], uc0, ub0, e0)\n",
    "    \n",
    "    # retrieve closed-loop trajectory\n",
    "#     x_sim.append(x1)\n",
    "    u_sim.append(uc0)\n",
    "    \n",
    "    # retrieve closed-loop trajectory\n",
    "    x_predicted.append(solution.variables['x'][1])\n",
    "    x_true.append(x1)\n",
    "    x_sim.extend(x_sim_t)"
   ]
  },
  {
   "cell_type": "code",
   "execution_count": null,
   "metadata": {},
   "outputs": [],
   "source": [
    "indices =  [0,1]\n",
    "fig = plt.figure()\n",
    "\n",
    "plt.plot(\n",
    "    [xt[indices[0]] for xt in x_sim],\n",
    "    [xt[indices[1]] for xt in x_sim],\n",
    "    color='c',\n",
    "    label='Closed-loop trajectory',\n",
    "    linewidth=3\n",
    ")\n",
    "\n",
    "for t in range(T_sim):\n",
    "    label = 'Next-state prediction'\n",
    "    if t > 0:\n",
    "        label=None\n",
    "    plt.plot(\n",
    "        [x_true[t][indices[0]], x_predicted[t][indices[0]]],\n",
    "        [x_true[t][indices[1]], x_predicted[t][indices[1]]],\n",
    "        c='b',\n",
    "        label=label\n",
    "    )\n",
    "    plt.scatter(\n",
    "        [x_predicted[t][indices[0]]],\n",
    "        [x_predicted[t][indices[1]]],\n",
    "        c='b',\n",
    "        marker='o',\n",
    "        s=5,\n",
    "        zorder=3\n",
    "    )\n",
    "plt.xlabel(r'$x_%d$'%(indices[0]+1))\n",
    "plt.ylabel(r'$x_%d$'%(indices[1]+1))\n",
    "# ax.set_zlabel(r'Solved QPs')\n",
    "plt.legend()\n",
    "plt.grid(True)\n",
    "# plt.show()\n",
    "plt.savefig('error_soft.pdf')"
   ]
  },
  {
   "cell_type": "markdown",
   "metadata": {},
   "source": [
    "## Animation"
   ]
  },
  {
   "cell_type": "code",
   "execution_count": null,
   "metadata": {},
   "outputs": [],
   "source": [
    "from visualizer import vis, animate\n",
    "vis.jupyter_cell()"
   ]
  },
  {
   "cell_type": "code",
   "execution_count": null,
   "metadata": {},
   "outputs": [],
   "source": [
    "animate(x_sim, h)"
   ]
  }
 ],
 "metadata": {
  "kernelspec": {
   "display_name": "Python 3",
   "language": "python",
   "name": "python3"
  },
  "language_info": {
   "codemirror_mode": {
    "name": "ipython",
    "version": 3
   },
   "file_extension": ".py",
   "mimetype": "text/x-python",
   "name": "python",
   "nbconvert_exporter": "python",
   "pygments_lexer": "ipython3",
   "version": "3.7.6"
  }
 },
 "nbformat": 4,
 "nbformat_minor": 2
}
