{
 "cells": [
  {
   "cell_type": "code",
   "execution_count": 18,
   "metadata": {},
   "outputs": [
    {
     "name": "stdout",
     "output_type": "stream",
     "text": [
      "The autoreload extension is already loaded. To reload it, use:\n",
      "  %reload_ext autoreload\n"
     ]
    }
   ],
   "source": [
    "# notebook settings\n",
    "%load_ext autoreload\n",
    "%autoreload 2\n",
    "# %matplotlib notebook\n",
    "\n",
    "# external imports\n",
    "import numpy as np\n",
    "import sympy as sp\n",
    "# from scipy.linalg import solve_discrete_are\n",
    "import matplotlib.pyplot as plt\n",
    "\n",
    "# internal imports\n",
    "from controller import controller\n",
    "from nonlinear_dynamics import simulate\n",
    "from mld_dynamics import mld, h\n",
    "from visualizer import vis, animate"
   ]
  },
  {
   "cell_type": "markdown",
   "metadata": {},
   "source": [
    "## Open-loop solution"
   ]
  },
  {
   "cell_type": "code",
   "execution_count": 19,
   "metadata": {},
   "outputs": [],
   "source": [
    "# initial push towards the right wall\n",
    "x0 = np.array([0., 0., 1., 0.])"
   ]
  },
  {
   "cell_type": "code",
   "execution_count": 20,
   "metadata": {},
   "outputs": [
    {
     "data": {
      "text/plain": [
       "0.06925696807132983"
      ]
     },
     "execution_count": 20,
     "metadata": {},
     "output_type": "execute_result"
    }
   ],
   "source": [
    "# solve in open loop\n",
    "# options = {'OptimalityTol': 1e-06, 'Presolve': 0, 'Heuristics': 0}\n",
    "solution, leaves, nodes, solver_time = controller.feedforward(\n",
    "    x0,\n",
    "    printing_period=None,\n",
    "    gurobi_params={'OutputFlag': 0, 'Method': 1} # dual simplex\n",
    "#     draw_label='Cart pole with walls'\n",
    ")\n",
    "solver_time\n",
    "solution.objective"
   ]
  },
  {
   "cell_type": "markdown",
   "metadata": {},
   "source": [
    "import cProfile\n",
    "cProfile.run('controller.feedforward(x0, printing_period=None)')"
   ]
  },
  {
   "cell_type": "code",
   "execution_count": null,
   "metadata": {},
   "outputs": [],
   "source": [
    "options = {'OutputFlag': 1, 'MIPGap': 0, 'Presolve': 0, 'Heuristics': 0}\n",
    "x_gurobi, obj_gurobi, nodes_gurobi, solver_time = controller.feedforward_gurobi(x0, options)\n",
    "solver_time"
   ]
  },
  {
   "cell_type": "code",
   "execution_count": null,
   "metadata": {},
   "outputs": [],
   "source": [
    "vis.jupyter_cell()"
   ]
  },
  {
   "cell_type": "code",
   "execution_count": null,
   "metadata": {},
   "outputs": [],
   "source": [
    "animate(solution.variables['x'], h)"
   ]
  },
  {
   "cell_type": "markdown",
   "metadata": {},
   "source": [
    "## Solve with and without warm start"
   ]
  },
  {
   "cell_type": "code",
   "execution_count": 176,
   "metadata": {},
   "outputs": [
    {
     "data": {
      "text/plain": [
       "0.008633852005004883"
      ]
     },
     "execution_count": 176,
     "metadata": {},
     "output_type": "execute_result"
    }
   ],
   "source": [
    "e0 = np.random.randn(mld.nx) * 0.\n",
    "uc0 = solution.variables['uc'][0]\n",
    "ub0 = solution.variables['ub'][0]\n",
    "x1 = solution.variables['x'][1]\n",
    "warm_start_, ws_time_ = controller.construct_warm_start(leaves, x0, uc0, ub0, e0)\n",
    "ws_time_"
   ]
  },
  {
   "cell_type": "code",
   "execution_count": 168,
   "metadata": {},
   "outputs": [
    {
     "name": "stdout",
     "output_type": "stream",
     "text": [
      "         5734 function calls in 0.015 seconds\n",
      "\n",
      "   Ordered by: standard name\n",
      "\n",
      "   ncalls  tottime  percall  cumtime  percall filename:lineno(function)\n",
      "        1    0.000    0.000    0.000    0.000 <__array_function__ internals>:2(concatenate)\n",
      "       77    0.000    0.000    0.000    0.000 <__array_function__ internals>:2(copyto)\n",
      "        1    0.000    0.000    0.015    0.015 <string>:1(<module>)\n",
      "       77    0.000    0.000    0.000    0.000 branch_and_bound.py:12(__init__)\n",
      "       77    0.003    0.000    0.004    0.000 controller.py:300(_get_bound_binaries)\n",
      "        1    0.001    0.001    0.014    0.014 controller.py:454(construct_warm_start)\n",
      "       77    0.001    0.000    0.001    0.000 controller.py:516(<dictcomp>)\n",
      "       81    0.000    0.000    0.001    0.000 controller.py:526(_retain_leaf)\n",
      "      399    0.000    0.000    0.000    0.000 controller.py:544(<genexpr>)\n",
      "       77    0.001    0.000    0.002    0.000 controller.py:546(_shift_dual_variables)\n",
      "       77    0.002    0.000    0.009    0.000 controller.py:579(_get_pi)\n",
      "      462    0.000    0.000    0.001    0.000 controller.py:606(<lambda>)\n",
      "      308    0.000    0.000    0.001    0.000 controller.py:622(<genexpr>)\n",
      "       77    0.000    0.000    0.000    0.000 multiarray.py:1043(copyto)\n",
      "        1    0.000    0.000    0.000    0.000 multiarray.py:145(concatenate)\n",
      "       77    0.000    0.000    0.001    0.000 numeric.py:159(ones)\n",
      "       76    0.000    0.000    0.000    0.000 subproblem_solution.py:106(__init__)\n",
      "       77    0.000    0.000    0.000    0.000 subproblem_solution.py:6(__init__)\n",
      "       81    0.000    0.000    0.001    0.000 {built-in method builtins.all}\n",
      "        1    0.000    0.000    0.015    0.015 {built-in method builtins.exec}\n",
      "       77    0.000    0.000    0.000    0.000 {built-in method builtins.max}\n",
      "      154    0.001    0.000    0.001    0.000 {built-in method builtins.sum}\n",
      "        1    0.000    0.000    0.000    0.000 {built-in method gc.disable}\n",
      "        1    0.000    0.000    0.000    0.000 {built-in method gc.enable}\n",
      "       78    0.000    0.000    0.000    0.000 {built-in method numpy.core._multiarray_umath.implement_array_function}\n",
      "       77    0.000    0.000    0.000    0.000 {built-in method numpy.empty}\n",
      "      616    0.000    0.000    0.000    0.000 {built-in method numpy.zeros}\n",
      "        2    0.000    0.000    0.000    0.000 {built-in method time.time}\n",
      "      693    0.000    0.000    0.000    0.000 {method 'append' of 'list' objects}\n",
      "        1    0.000    0.000    0.000    0.000 {method 'disable' of '_lsprof.Profiler' objects}\n",
      "     1540    0.003    0.000    0.003    0.000 {method 'dot' of 'numpy.ndarray' objects}\n",
      "      235    0.000    0.000    0.000    0.000 {method 'items' of 'dict' objects}\n",
      "       77    0.000    0.000    0.000    0.000 {method 'keys' of 'dict' objects}\n",
      "       77    0.000    0.000    0.000    0.000 {method 'values' of 'dict' objects}\n",
      "\n",
      "\n"
     ]
    }
   ],
   "source": [
    "import cProfile\n",
    "e0 = np.random.randn(mld.nx) * 0.\n",
    "uc0 = solution.variables['uc'][0]\n",
    "ub0 = solution.variables['ub'][0]\n",
    "cProfile.run('controller.construct_warm_start(leaves, x0, uc0, ub0, e0)')"
   ]
  },
  {
   "cell_type": "code",
   "execution_count": null,
   "metadata": {},
   "outputs": [],
   "source": [
    "u0 = np.concatenate((uc0, ub0))\n",
    "x1 = mld.A.dot(x0) + mld.B.dot(u0) + e0\n",
    "solution, leaves, nodes, solver_time = controller.feedforward(\n",
    "    x1,\n",
    "    warm_start=warm_start,\n",
    "    gurobi_options={'Method': 1}, # dual simplex\n",
    "#     draw_label='Cart pole with walls warm start'\n",
    ")\n",
    "solver_time"
   ]
  },
  {
   "cell_type": "code",
   "execution_count": null,
   "metadata": {},
   "outputs": [],
   "source": [
    "solution, leaves, nodes, solver_time = controller.feedforward(x1)\n",
    "solver_time"
   ]
  }
 ],
 "metadata": {
  "kernelspec": {
   "display_name": "Python 3",
   "language": "python",
   "name": "python3"
  },
  "language_info": {
   "codemirror_mode": {
    "name": "ipython",
    "version": 3
   },
   "file_extension": ".py",
   "mimetype": "text/x-python",
   "name": "python",
   "nbconvert_exporter": "python",
   "pygments_lexer": "ipython3",
   "version": "3.7.6"
  }
 },
 "nbformat": 4,
 "nbformat_minor": 2
}
