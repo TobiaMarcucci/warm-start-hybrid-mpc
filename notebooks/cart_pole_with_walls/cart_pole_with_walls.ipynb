{
 "cells": [
  {
   "cell_type": "code",
   "execution_count": 1,
   "metadata": {},
   "outputs": [
    {
     "name": "stdout",
     "output_type": "stream",
     "text": [
      "Using license file /Users/tobia/codes/gurobi.lic\n",
      "Academic license - for non-commercial use only\n",
      "Time horizon: 34. Convergence index: 0.000000. Number of facets: 162. Convergence index: 0.094334. Number of facets: 124. Convergence index: 0.012480. Number of facets: 130.\n",
      "Maximal constraint-admissible invariant set found. Removing redundant facets ... minimal facets are 102.\n",
      "You can open the visualizer by visiting the following URL:\n",
      "http://127.0.0.1:7001/static/\n"
     ]
    }
   ],
   "source": [
    "# notebook settings\n",
    "%load_ext autoreload\n",
    "%autoreload 2\n",
    "# %matplotlib notebook\n",
    "\n",
    "# external imports\n",
    "import numpy as np\n",
    "import sympy as sp\n",
    "# from scipy.linalg import solve_discrete_are\n",
    "import matplotlib.pyplot as plt\n",
    "\n",
    "# internal imports\n",
    "from controller import controller\n",
    "from nonlinear_dynamics import simulate\n",
    "from mld_dynamics import mld, h\n",
    "from visualizer import vis, animate"
   ]
  },
  {
   "cell_type": "markdown",
   "metadata": {},
   "source": [
    "## Open-loop solution"
   ]
  },
  {
   "cell_type": "code",
   "execution_count": 2,
   "metadata": {},
   "outputs": [],
   "source": [
    "# initial push towards the right wall\n",
    "x0 = np.array([0., 0., 1., 0.])"
   ]
  },
  {
   "cell_type": "code",
   "execution_count": 3,
   "metadata": {},
   "outputs": [
    {
     "data": {
      "text/plain": [
       "0.3888130187988281"
      ]
     },
     "execution_count": 3,
     "metadata": {},
     "output_type": "execute_result"
    }
   ],
   "source": [
    "# solve in open loop\n",
    "# options = {'OptimalityTol': 1e-06, 'Presolve': 0, 'Heuristics': 0}\n",
    "solution, leaves, nodes, solver_time = controller.feedforward(\n",
    "    x0,\n",
    "    printing_period=None,\n",
    "    gurobi_options={'Method': 1} # dual simplex\n",
    "#     draw_label='Cart pole with walls'\n",
    ")\n",
    "solver_time"
   ]
  },
  {
   "cell_type": "markdown",
   "metadata": {},
   "source": [
    "import cProfile\n",
    "cProfile.run('controller.feedforward(x0, printing_period=None)')"
   ]
  },
  {
   "cell_type": "code",
   "execution_count": null,
   "metadata": {},
   "outputs": [],
   "source": [
    "options = {'OutputFlag': 1, 'MIPGap': 0, 'Presolve': 0, 'Heuristics': 0}\n",
    "x_gurobi, obj_gurobi, nodes_gurobi, solver_time = controller.feedforward_gurobi(x0, options)\n",
    "nodes_gurobi, solver_time"
   ]
  },
  {
   "cell_type": "code",
   "execution_count": null,
   "metadata": {},
   "outputs": [],
   "source": [
    "vis.jupyter_cell()"
   ]
  },
  {
   "cell_type": "code",
   "execution_count": null,
   "metadata": {},
   "outputs": [],
   "source": [
    "animate(solution.variables['x'], h)"
   ]
  },
  {
   "cell_type": "markdown",
   "metadata": {},
   "source": [
    "## Solve with and without warm start"
   ]
  },
  {
   "cell_type": "code",
   "execution_count": 4,
   "metadata": {},
   "outputs": [
    {
     "data": {
      "text/plain": [
       "0.008745908737182617"
      ]
     },
     "execution_count": 4,
     "metadata": {},
     "output_type": "execute_result"
    }
   ],
   "source": [
    "e0 = np.random.randn(mld.nx) * 0.\n",
    "uc0 = solution.variables['uc'][0]\n",
    "ub0 = solution.variables['ub'][0]\n",
    "warm_start, ws_time = controller.construct_warm_start(leaves, x0, uc0, ub0, e0)\n",
    "ws_time"
   ]
  },
  {
   "cell_type": "markdown",
   "metadata": {},
   "source": [
    "import cProfile\n",
    "e0 = np.random.randn(mld.nx) * 0.\n",
    "uc0 = solution.variables['uc'][0]\n",
    "ub0 = solution.variables['ub'][0]\n",
    "cProfile.run('controller.construct_warm_start(leaves, x0, uc0, ub0, e0)')"
   ]
  },
  {
   "cell_type": "code",
   "execution_count": 5,
   "metadata": {},
   "outputs": [
    {
     "name": "stdout",
     "output_type": "stream",
     "text": [
      "Loaded warm start with 77 nodes. Lower bound from warm start is 0.000.\n",
      "|    Updates    |    Time (s)   |  Solved nodes |  Lower bound  |  Upper bound  |\n",
      " --------------- --------------- --------------- --------------- ---------------\n",
      " New incumbent   0.25            10              6.426e-02       6.426e-02       \n",
      " Solution found  0.25            10              6.426e-02       6.426e-02       \n",
      "\n",
      "Explored 10 nodes in 0.253 seconds: optimal solution found with cost 6.426e-02.\n"
     ]
    },
    {
     "data": {
      "text/plain": [
       "0.025658130645751953"
      ]
     },
     "execution_count": 5,
     "metadata": {},
     "output_type": "execute_result"
    }
   ],
   "source": [
    "u0 = np.concatenate((uc0, ub0))\n",
    "x1 = mld.A.dot(x0) + mld.B.dot(u0) + e0\n",
    "solution, leaves, nodes, solver_time = controller.feedforward(\n",
    "    x1,\n",
    "    warm_start=warm_start,\n",
    "    gurobi_options={'Method': 1}, # dual simplex\n",
    "#     draw_label='Cart pole with walls warm start'\n",
    ")\n",
    "solver_time"
   ]
  },
  {
   "cell_type": "code",
   "execution_count": null,
   "metadata": {},
   "outputs": [],
   "source": [
    "solution, leaves, nodes, solver_time = controller.feedforward(x1)\n",
    "solver_time"
   ]
  },
  {
   "cell_type": "markdown",
   "metadata": {},
   "source": [
    "## Solve in closed loop"
   ]
  },
  {
   "cell_type": "code",
   "execution_count": null,
   "metadata": {},
   "outputs": [],
   "source": [
    "from visualizer import vis, visualize\n",
    "vis.jupyter_cell()"
   ]
  },
  {
   "cell_type": "code",
   "execution_count": null,
   "metadata": {},
   "outputs": [],
   "source": [
    "# np.random.seed(1)\n",
    "\n",
    "# set up simulation\n",
    "T_sim = 60\n",
    "x_true = [x0]\n",
    "x_sim = []\n",
    "x_predicted = []\n",
    "u_sim = []\n",
    "warm_start = None\n",
    "\n",
    "for t in range(T_sim):\n",
    "    print('Time step %d.'%t)\n",
    "    \n",
    "    # solve miqp\n",
    "    solution, leaves = controller.feedforward(\n",
    "        x_true[-1],\n",
    "        warm_start=warm_start,\n",
    "#         printing_period=None\n",
    "    )[:2]\n",
    "    \n",
    "    # reorganize solution\n",
    "    uc0 = solution.variables['uc'][0]\n",
    "    ub0 = solution.variables['ub'][0]\n",
    "    u0 = np.concatenate((uc0, ub0))\n",
    "    x_sim_t = simulate(x_true[-1], h, uc0[0])\n",
    "    x1 = x_sim_t[-1]\n",
    "#     x1 = solution.variables['x'][1]\n",
    "    e0 = x1 - mld.A.dot(x_true[-1]) - mld.B.dot(u0)\n",
    "    print('predicted state:', solution.variables['x'][1])\n",
    "    print('true state:', x1)\n",
    "    print('modeling error:', e0)\n",
    "#     visualize(x1)\n",
    "    \n",
    "    # generate warm start\n",
    "    warm_start = controller.construct_warm_start(leaves, x_true[-1], uc0, ub0, e0)\n",
    "    \n",
    "    # retrieve closed-loop trajectory\n",
    "#     x_sim.append(x1)\n",
    "    u_sim.append(uc0)\n",
    "    \n",
    "    # retrieve closed-loop trajectory\n",
    "    x_predicted.append(solution.variables['x'][1])\n",
    "    x_true.append(x1)\n",
    "    x_sim.extend(x_sim_t)"
   ]
  },
  {
   "cell_type": "code",
   "execution_count": null,
   "metadata": {},
   "outputs": [],
   "source": [
    "indices =  [0,1]\n",
    "fig = plt.figure()\n",
    "\n",
    "plt.plot(\n",
    "    [xt[indices[0]] for xt in x_sim],\n",
    "    [xt[indices[1]] for xt in x_sim],\n",
    "    color='c',\n",
    "    label='Closed-loop trajectory',\n",
    "    linewidth=3\n",
    ")\n",
    "\n",
    "for t in range(T_sim):\n",
    "    label = 'Next-state prediction'\n",
    "    if t > 0:\n",
    "        label=None\n",
    "    plt.plot(\n",
    "        [x_true[t][indices[0]], x_predicted[t][indices[0]]],\n",
    "        [x_true[t][indices[1]], x_predicted[t][indices[1]]],\n",
    "        c='b',\n",
    "        label=label\n",
    "    )\n",
    "    plt.scatter(\n",
    "        [x_predicted[t][indices[0]]],\n",
    "        [x_predicted[t][indices[1]]],\n",
    "        c='b',\n",
    "        marker='o',\n",
    "        s=5,\n",
    "        zorder=3\n",
    "    )\n",
    "plt.xlabel(r'$x_%d$'%(indices[0]+1))\n",
    "plt.ylabel(r'$x_%d$'%(indices[1]+1))\n",
    "# ax.set_zlabel(r'Solved QPs')\n",
    "plt.legend()\n",
    "plt.grid(True)\n",
    "# plt.show()\n",
    "plt.savefig('error_soft.pdf')"
   ]
  },
  {
   "cell_type": "markdown",
   "metadata": {},
   "source": [
    "## Animation"
   ]
  },
  {
   "cell_type": "code",
   "execution_count": null,
   "metadata": {},
   "outputs": [],
   "source": [
    "from visualizer import vis, animate\n",
    "vis.jupyter_cell()"
   ]
  },
  {
   "cell_type": "code",
   "execution_count": null,
   "metadata": {},
   "outputs": [],
   "source": [
    "animate(x_sim, h)"
   ]
  }
 ],
 "metadata": {
  "kernelspec": {
   "display_name": "Python 3",
   "language": "python",
   "name": "python3"
  },
  "language_info": {
   "codemirror_mode": {
    "name": "ipython",
    "version": 3
   },
   "file_extension": ".py",
   "mimetype": "text/x-python",
   "name": "python",
   "nbconvert_exporter": "python",
   "pygments_lexer": "ipython3",
   "version": "3.7.6"
  }
 },
 "nbformat": 4,
 "nbformat_minor": 2
}
