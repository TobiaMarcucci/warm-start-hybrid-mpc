{
 "cells": [
  {
   "cell_type": "code",
   "execution_count": null,
   "metadata": {},
   "outputs": [],
   "source": [
    "# notebook settings\n",
    "%load_ext autoreload\n",
    "%autoreload 2\n",
    "# %matplotlib notebook\n",
    "\n",
    "# external imports\n",
    "import os\n",
    "import numpy as np\n",
    "import sympy as sp\n",
    "import matplotlib.pyplot as plt\n",
    "\n",
    "# internal imports\n",
    "from dynamics import mld\n",
    "from warm_start_hmpc.controller import HybridModelPredictiveController"
   ]
  },
  {
   "cell_type": "code",
   "execution_count": null,
   "metadata": {},
   "outputs": [],
   "source": [
    "# controller horizon\n",
    "T = 25\n",
    "\n",
    "# weight matrices\n",
    "C = np.eye(mld.nx) * 1.\n",
    "C_T = np.eye(mld.nx) * 1.\n",
    "D = np.vstack([1.]+[0.]*(mld.nu - 1)).T * 1.\n",
    "objective = [C, D, C_T]\n",
    "\n",
    "# terminal constraints\n",
    "F_T = np.vstack((np.eye(mld.nx), - np.eye(mld.nx)))\n",
    "h_T = np.ones(2*mld.nx)*.5\n",
    "terminal_set = [F_T, h_T]\n",
    "\n",
    "# hybrid controller\n",
    "controller = HybridModelPredictiveController(mld, T, objective, terminal_set)"
   ]
  },
  {
   "cell_type": "code",
   "execution_count": null,
   "metadata": {},
   "outputs": [],
   "source": [
    "x0 = np.array([0., 0., 1., 0.])"
   ]
  },
  {
   "cell_type": "code",
   "execution_count": null,
   "metadata": {},
   "outputs": [],
   "source": [
    "# solve in open loop\n",
    "uc, ub, x, objective, leaves = controller.feedforward(x0, draw_label='Cart pole with walls')"
   ]
  },
  {
   "cell_type": "code",
   "execution_count": null,
   "metadata": {},
   "outputs": [],
   "source": [
    "e0 = np.zeros(mld.nx)\n",
    "controller.construct_warm_start(leaves,x0, uc[0], ub[0], e0)"
   ]
  },
  {
   "cell_type": "code",
   "execution_count": null,
   "metadata": {},
   "outputs": [],
   "source": [
    "from visualizer import vis, animate\n",
    "vis.jupyter_cell()"
   ]
  },
  {
   "cell_type": "code",
   "execution_count": null,
   "metadata": {},
   "outputs": [],
   "source": [
    "animate(incumbent.additional.primal.x)"
   ]
  },
  {
   "cell_type": "code",
   "execution_count": null,
   "metadata": {},
   "outputs": [],
   "source": [
    "controller._get_bounds_on_binaries"
   ]
  }
 ],
 "metadata": {
  "kernelspec": {
   "display_name": "Python 3",
   "language": "python",
   "name": "python3"
  },
  "language_info": {
   "codemirror_mode": {
    "name": "ipython",
    "version": 3
   },
   "file_extension": ".py",
   "mimetype": "text/x-python",
   "name": "python",
   "nbconvert_exporter": "python",
   "pygments_lexer": "ipython3",
   "version": "3.7.3"
  }
 },
 "nbformat": 4,
 "nbformat_minor": 2
}
