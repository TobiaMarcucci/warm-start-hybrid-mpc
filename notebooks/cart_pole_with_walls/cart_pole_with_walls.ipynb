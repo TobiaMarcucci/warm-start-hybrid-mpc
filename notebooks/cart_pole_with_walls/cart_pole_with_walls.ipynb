{
 "cells": [
  {
   "cell_type": "code",
   "execution_count": null,
   "metadata": {},
   "outputs": [],
   "source": [
    "# notebook settings\n",
    "%load_ext autoreload\n",
    "%autoreload 2\n",
    "# %matplotlib notebook\n",
    "\n",
    "# external imports\n",
    "import numpy as np\n",
    "import sympy as sp\n",
    "from scipy.linalg import solve_discrete_are\n",
    "import matplotlib.pyplot as plt\n",
    "\n",
    "# internal imports\n",
    "from dynamics import mld, x_max\n",
    "from warm_start_hmpc.controller import HybridModelPredictiveController"
   ]
  },
  {
   "cell_type": "code",
   "execution_count": null,
   "metadata": {},
   "outputs": [],
   "source": [
    "# controller horizon\n",
    "T = 40\n",
    "\n",
    "# weight matrices\n",
    "C = np.eye(mld.nx)\n",
    "D = np.vstack([1.]+[0.]*(mld.nu - 1)).T\n",
    "\n",
    "# terminal cost\n",
    "Bu = mld.B[:,0:1]\n",
    "Du = D[:,0:1]\n",
    "P = solve_discrete_are(mld.A, Bu, C.T.dot(C), Du.T.dot(Du))\n",
    "C_T = np.linalg.cholesky(P).T\n",
    "C_T = C\n",
    "objective = [C, D, C_T]\n",
    "\n",
    "# terminal constraints\n",
    "F_T = np.vstack((np.eye(mld.nx), - np.eye(mld.nx)))\n",
    "# h_T = np.ones(2*mld.nx) * .2\n",
    "h_T = np.concatenate((x_max, x_max))\n",
    "terminal_set = [F_T, h_T]\n",
    "\n",
    "# hybrid controller\n",
    "controller = HybridModelPredictiveController(mld, T, objective, terminal_set)\n",
    "\n",
    "# initial push towards the right wall\n",
    "x0 = np.array([0., 0., 1., 0.])"
   ]
  },
  {
   "cell_type": "markdown",
   "metadata": {},
   "source": [
    "## Open-loop solution"
   ]
  },
  {
   "cell_type": "code",
   "execution_count": null,
   "metadata": {},
   "outputs": [],
   "source": [
    "# solve in open loop\n",
    "solution, leaves = controller.feedforward(\n",
    "    x0,\n",
    "    draw_label='Cart pole with walls'\n",
    ")"
   ]
  },
  {
   "cell_type": "markdown",
   "metadata": {},
   "source": [
    "## Solve with and without warm start"
   ]
  },
  {
   "cell_type": "code",
   "execution_count": null,
   "metadata": {},
   "outputs": [],
   "source": [
    "e0 = np.random.randn(mld.nx)*0.\n",
    "uc0 = solution.variables['uc'][0]\n",
    "ub0 = solution.variables['ub'][0]\n",
    "warm_start = controller.construct_warm_start(leaves, x0, uc0, ub0, e0)"
   ]
  },
  {
   "cell_type": "code",
   "execution_count": null,
   "metadata": {},
   "outputs": [],
   "source": [
    "u0 = np.concatenate((uc0, ub0))\n",
    "x1 = mld.A.dot(x0) + mld.B.dot(u0) + e0\n",
    "solution, leaves = controller.feedforward(\n",
    "    x1,\n",
    "    warm_start=warm_start,\n",
    "    draw_label='Cart pole with walls warm start'\n",
    ")"
   ]
  },
  {
   "cell_type": "code",
   "execution_count": null,
   "metadata": {},
   "outputs": [],
   "source": [
    "solution, leaves = controller.feedforward(x1)"
   ]
  },
  {
   "cell_type": "markdown",
   "metadata": {},
   "source": [
    "## Solve in closed loop"
   ]
  },
  {
   "cell_type": "code",
   "execution_count": null,
   "metadata": {},
   "outputs": [],
   "source": [
    "np.random.seed(1)\n",
    "\n",
    "T_sim = 50\n",
    "x_sim = [x0]\n",
    "u_sim = []\n",
    "warm_start = None\n",
    "\n",
    "for t in range(T_sim):\n",
    "    print('Time step %d.'%t)\n",
    "    \n",
    "    solution, leaves = controller.feedforward(\n",
    "        x_sim[-1],\n",
    "        warm_start=warm_start,\n",
    "        printing_period=5.\n",
    "    )\n",
    "    \n",
    "    [x0, x1] = solution.variables['x'][0:2]\n",
    "    uc0 = solution.variables['uc'][0]\n",
    "    ub0 = solution.variables['ub'][0]\n",
    "    e0 = np.random.randn(mld.nx)*0.\n",
    "    \n",
    "    warm_start = controller.construct_warm_start(leaves, x0, uc0, ub0, e0)\n",
    "    \n",
    "    x_sim.append(x1)\n",
    "    u_sim.append(uc0)"
   ]
  },
  {
   "cell_type": "markdown",
   "metadata": {},
   "source": [
    "## Animation"
   ]
  },
  {
   "cell_type": "code",
   "execution_count": null,
   "metadata": {},
   "outputs": [],
   "source": [
    "from visualizer import vis, animate\n",
    "vis.jupyter_cell()"
   ]
  },
  {
   "cell_type": "code",
   "execution_count": null,
   "metadata": {},
   "outputs": [],
   "source": [
    "animate(x_sim)"
   ]
  },
  {
   "cell_type": "code",
   "execution_count": null,
   "metadata": {},
   "outputs": [],
   "source": []
  }
 ],
 "metadata": {
  "kernelspec": {
   "display_name": "Python 3",
   "language": "python",
   "name": "python3"
  },
  "language_info": {
   "codemirror_mode": {
    "name": "ipython",
    "version": 3
   },
   "file_extension": ".py",
   "mimetype": "text/x-python",
   "name": "python",
   "nbconvert_exporter": "python",
   "pygments_lexer": "ipython3",
   "version": "3.7.3"
  }
 },
 "nbformat": 4,
 "nbformat_minor": 2
}
