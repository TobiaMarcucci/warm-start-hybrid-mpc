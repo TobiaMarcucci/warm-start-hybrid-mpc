{
 "cells": [
  {
   "cell_type": "code",
   "execution_count": null,
   "metadata": {},
   "outputs": [],
   "source": [
    "# notebook settings\n",
    "%load_ext autoreload\n",
    "%autoreload 2\n",
    "# %matplotlib notebook\n",
    "\n",
    "# external imports\n",
    "import numpy as np\n",
    "import sympy as sp\n",
    "from scipy.linalg import solve_discrete_are\n",
    "import matplotlib.pyplot as plt\n",
    "\n",
    "# internal imports\n",
    "from dynamics import mld\n",
    "from warm_start_hmpc.controller import HybridModelPredictiveController"
   ]
  },
  {
   "cell_type": "code",
   "execution_count": null,
   "metadata": {},
   "outputs": [],
   "source": [
    "# controller horizon\n",
    "T = 40\n",
    "\n",
    "# weight matrices\n",
    "C = np.eye(mld.nx) * .1\n",
    "# C_T = np.eye(mld.nx) * 1.\n",
    "D = np.vstack([1.]+[0.]*(mld.nu - 1)).T * .1\n",
    "\n",
    "# terminal cost\n",
    "Bu = mld.B[:,0:1]\n",
    "Du = D[:,0:1]\n",
    "P = solve_discrete_are(mld.A, Bu, C.T.dot(C), Du.T.dot(Du))\n",
    "C_T = np.linalg.cholesky(P).T\n",
    "objective = [C, D, C_T]\n",
    "\n",
    "# terminal constraints\n",
    "F_T = np.vstack((np.eye(mld.nx), - np.eye(mld.nx)))\n",
    "h_T = np.ones(2*mld.nx)*.1\n",
    "terminal_set = [F_T, h_T]\n",
    "\n",
    "# hybrid controller\n",
    "controller = HybridModelPredictiveController(mld, T, objective, terminal_set)"
   ]
  },
  {
   "cell_type": "code",
   "execution_count": null,
   "metadata": {},
   "outputs": [],
   "source": [
    "x0 = np.array([0., 0., 1., 0.])"
   ]
  },
  {
   "cell_type": "code",
   "execution_count": null,
   "metadata": {},
   "outputs": [],
   "source": [
    "# solve in open loop\n",
    "solution, leaves = controller.feedforward(\n",
    "    x0,\n",
    "    draw_label='Cart pole with walls'\n",
    ")"
   ]
  },
  {
   "cell_type": "code",
   "execution_count": null,
   "metadata": {},
   "outputs": [],
   "source": [
    "e0 = np.random.randn(mld.nx)*0.\n",
    "uc0 = solution.variables['uc'][0]\n",
    "ub0 = solution.variables['ub'][0]\n",
    "warm_start = controller.construct_warm_start(leaves, x0, uc0, ub0, e0)"
   ]
  },
  {
   "cell_type": "code",
   "execution_count": null,
   "metadata": {},
   "outputs": [],
   "source": [
    "u0 = np.concatenate((uc0, ub0))\n",
    "x1 = mld.A.dot(x0) + mld.B.dot(u0) + e0\n",
    "solution, leaves = controller.feedforward(\n",
    "    x1,\n",
    "    warm_start=warm_start,\n",
    "    draw_label='Cart pole with walls warm start'\n",
    ")"
   ]
  },
  {
   "cell_type": "code",
   "execution_count": null,
   "metadata": {},
   "outputs": [],
   "source": [
    "solution, leaves = controller.feedforward(x1)"
   ]
  },
  {
   "cell_type": "code",
   "execution_count": null,
   "metadata": {},
   "outputs": [],
   "source": [
    "from visualizer import vis, animate\n",
    "vis.jupyter_cell()"
   ]
  },
  {
   "cell_type": "code",
   "execution_count": null,
   "metadata": {},
   "outputs": [],
   "source": [
    "animate(solution.variables['x'])"
   ]
  }
 ],
 "metadata": {
  "kernelspec": {
   "display_name": "Python 3",
   "language": "python",
   "name": "python3"
  },
  "language_info": {
   "codemirror_mode": {
    "name": "ipython",
    "version": 3
   },
   "file_extension": ".py",
   "mimetype": "text/x-python",
   "name": "python",
   "nbconvert_exporter": "python",
   "pygments_lexer": "ipython3",
   "version": "3.7.3"
  }
 },
 "nbformat": 4,
 "nbformat_minor": 2
}
