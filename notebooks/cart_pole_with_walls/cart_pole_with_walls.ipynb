{
 "cells": [
  {
   "cell_type": "code",
   "execution_count": 1,
   "metadata": {},
   "outputs": [
    {
     "name": "stdout",
     "output_type": "stream",
     "text": [
      "You can open the visualizer by visiting the following URL:\n",
      "http://127.0.0.1:7000/static/\n"
     ]
    }
   ],
   "source": [
    "# notebook settings\n",
    "%load_ext autoreload\n",
    "%autoreload 2\n",
    "# %matplotlib notebook\n",
    "\n",
    "# external imports\n",
    "import numpy as np\n",
    "import sympy as sp\n",
    "# from scipy.linalg import solve_discrete_are\n",
    "import matplotlib.pyplot as plt\n",
    "\n",
    "# internal imports\n",
    "from nonlinear_dynamics import simulate\n",
    "from mld_dynamics import mld, h\n",
    "from warm_start_hmpc.controller import HybridModelPredictiveController\n",
    "from warm_start_hmpc.mcais import mcais, solve_dare\n",
    "from visualizer import vis, animate"
   ]
  },
  {
   "cell_type": "code",
   "execution_count": 2,
   "metadata": {},
   "outputs": [],
   "source": [
    "# controller horizon\n",
    "T = 20\n",
    "\n",
    "# weight matrices\n",
    "C = np.eye(mld.nx) * h\n",
    "D = np.vstack([1.]+[0.]*(mld.nu - 1)).T * h\n",
    "\n",
    "# # terminal cost\n",
    "# Bu = mld.B[:,0:1]\n",
    "# Du = D[:,0:1]\n",
    "# P = solve_discrete_are(mld.A, Bu, C.T.dot(C), Du.T.dot(Du))\n",
    "# C_T = np.linalg.cholesky(P).T\n",
    "# C_T = C\n",
    "# objective = [C, D, C_T]\n",
    "\n",
    "# # terminal constraints\n",
    "# F_T = np.vstack((np.eye(mld.nx), - np.eye(mld.nx)))\n",
    "# h_T = np.concatenate((x_max, x_max))\n",
    "# terminal_set = [F_T, h_T]"
   ]
  },
  {
   "cell_type": "code",
   "execution_count": 3,
   "metadata": {},
   "outputs": [],
   "source": [
    "from pympc.dynamics.discrete_time_systems import LinearSystem\n",
    "from pympc.geometry.polyhedron import Polyhedron\n",
    "\n",
    "# LQR cost to go\n",
    "Bu = mld.B[:,0:1]\n",
    "Du = D[:,0:1]\n",
    "P, K = solve_dare(mld.A, Bu, C.dot(C), Du.dot(Du))\n",
    "C_T = np.linalg.cholesky(P).T\n",
    "objective = [C, D, C_T]\n",
    "\n",
    "# # mcais terminal set\n",
    "# domain = Polyhedron(\n",
    "#     np.hstack((mld.F, mld.G[:,0:1])),\n",
    "#     mld.h\n",
    "# )\n",
    "# X_T = S.mcais(K, domain, verbose=True)\n",
    "# terminal_set = [X_T.A, X_T.b]"
   ]
  },
  {
   "cell_type": "code",
   "execution_count": 4,
   "metadata": {},
   "outputs": [
    {
     "name": "stdout",
     "output_type": "stream",
     "text": [
      "Academic license - for non-commercial use only\n",
      "Time horizon: 42. Convergence index: 0.000000. Number of facets: 216.\n",
      "Maximal constraint-admissible invariant set found. Removing redundant facets ... minimal facets are 90.\n"
     ]
    }
   ],
   "source": [
    "A_cl = mld.A + Bu.dot(K)\n",
    "lhs = mld.F + mld.G[:,0:1].dot(K)\n",
    "rhs = mld.h\n",
    "terminal_set = mcais(A_cl, lhs, rhs, verbose=True)"
   ]
  },
  {
   "cell_type": "code",
   "execution_count": 5,
   "metadata": {},
   "outputs": [],
   "source": [
    "# hybrid controller\n",
    "controller = HybridModelPredictiveController(mld, T, objective, terminal_set)\n",
    "\n",
    "# initial push towards the right wall\n",
    "x0 = np.array([0., 0., 1., 0.])"
   ]
  },
  {
   "cell_type": "markdown",
   "metadata": {},
   "source": [
    "## Open-loop solution"
   ]
  },
  {
   "cell_type": "code",
   "execution_count": 6,
   "metadata": {},
   "outputs": [
    {
     "name": "stdout",
     "output_type": "stream",
     "text": [
      "|    Updates    |    Time (s)   |  Solved nodes |  Lower bound  |  Upper bound  |\n",
      " --------------- --------------- --------------- --------------- ---------------\n",
      " Root node       0.05            1               4.266e-02       inf             \n",
      "                 3.07            95              6.147e-02       inf             \n",
      " New incumbent   6.06            184             6.214e-02       6.214e-02       \n",
      " Solution found  6.06            184             6.214e-02       6.214e-02       \n",
      "\n",
      "Explored 184 nodes in 6.065 seconds: optimal solution found with cost 6.214e-02.\n"
     ]
    }
   ],
   "source": [
    "# solve in open loop\n",
    "solution, leaves = controller.feedforward(\n",
    "    x0,\n",
    "    draw_label='Cart pole with walls'\n",
    ")"
   ]
  },
  {
   "cell_type": "code",
   "execution_count": 7,
   "metadata": {},
   "outputs": [
    {
     "name": "stdout",
     "output_type": "stream",
     "text": [
      "Changed value of parameter OutputFlag to 1\n",
      "   Prev: 0  Min: 0  Max: 1  Default: 1\n",
      "Optimize a model with 894 rows, 224 columns and 2608 nonzeros\n",
      "Model has 110 quadratic objective terms\n",
      "Variable types: 144 continuous, 80 integer (80 binary)\n",
      "Coefficient statistics:\n",
      "  Matrix range     [6e-04, 2e+02]\n",
      "  Objective range  [0e+00, 0e+00]\n",
      "  QObjective range [5e-03, 4e+01]\n",
      "  Bounds range     [0e+00, 0e+00]\n",
      "  RHS range        [4e-01, 2e+02]\n",
      "Presolve removed 611 rows and 78 columns\n",
      "Presolve time: 0.02s\n",
      "Presolved: 283 rows, 146 columns, 1273 nonzeros\n",
      "Presolved model has 104 quadratic objective terms\n",
      "Variable types: 111 continuous, 35 integer (35 binary)\n",
      "\n",
      "Root relaxation: objective 5.679353e-02, 445 iterations, 0.01 seconds\n",
      "\n",
      "    Nodes    |    Current Node    |     Objective Bounds      |     Work\n",
      " Expl Unexpl |  Obj  Depth IntInf | Incumbent    BestBd   Gap | It/Node Time\n",
      "\n",
      "     0     0    0.05679    0   26          -    0.05679      -     -    0s\n",
      "     0     0    0.05679    0   26          -    0.05679      -     -    0s\n",
      "     0     0    0.05679    0   26          -    0.05679      -     -    0s\n",
      "H    0     0                       0.2694523    0.05679  78.9%     -    0s\n",
      "     0     2    0.05872    0   19    0.26945    0.05872  78.2%     -    0s\n",
      "H    3     6                       0.1266129    0.06213  50.9%  28.0    0s\n",
      "H   32     3                       0.0621353    0.06214  0.00%   8.5    0s\n",
      "\n",
      "Cutting planes:\n",
      "  MIR: 4\n",
      "\n",
      "Explored 34 nodes (732 simplex iterations) in 0.24 seconds\n",
      "Thread count was 4 (of 4 available processors)\n",
      "\n",
      "Solution count 3: 0.0621353 0.126613 0.269452 \n",
      "\n",
      "Optimal solution found (tolerance 1.00e-04)\n",
      "Best objective 6.213525383013e-02, best bound 6.213525383013e-02, gap 0.0000%\n"
     ]
    }
   ],
   "source": [
    "x_gurobi, obj_gurobi = controller.feedforward_gurobi(x0)"
   ]
  },
  {
   "cell_type": "code",
   "execution_count": 8,
   "metadata": {},
   "outputs": [
    {
     "data": {
      "text/html": [
       "\n",
       "<div style=\"height: 400px; width: 600px; overflow-x: auto; overflow-y: hidden; resize: both\">\n",
       "<iframe src=\"http://127.0.0.1:7000/static/\" style=\"width: 100%; height: 100%; border: none\"></iframe>\n",
       "</div>\n"
      ],
      "text/plain": [
       "<IPython.core.display.HTML object>"
      ]
     },
     "execution_count": 8,
     "metadata": {},
     "output_type": "execute_result"
    }
   ],
   "source": [
    "vis.jupyter_cell()"
   ]
  },
  {
   "cell_type": "code",
   "execution_count": 10,
   "metadata": {},
   "outputs": [],
   "source": [
    "animate(solution.variables['x'], h)"
   ]
  },
  {
   "cell_type": "markdown",
   "metadata": {},
   "source": [
    "## Solve with and without warm start"
   ]
  },
  {
   "cell_type": "code",
   "execution_count": 11,
   "metadata": {},
   "outputs": [],
   "source": [
    "e0 = np.random.randn(mld.nx) * 0.\n",
    "uc0 = solution.variables['uc'][0]\n",
    "ub0 = solution.variables['ub'][0]\n",
    "warm_start = controller.construct_warm_start(leaves, x0, uc0, ub0, e0)"
   ]
  },
  {
   "cell_type": "code",
   "execution_count": 12,
   "metadata": {},
   "outputs": [
    {
     "name": "stdout",
     "output_type": "stream",
     "text": [
      "Loaded warm start with 93 nodes. Lower bound from warm start is 0.000.\n",
      "|    Updates    |    Time (s)   |  Solved nodes |  Lower bound  |  Upper bound  |\n",
      " --------------- --------------- --------------- --------------- ---------------\n",
      " New incumbent   0.83            25              5.391e-02       5.391e-02       \n",
      " Solution found  0.83            25              5.391e-02       5.391e-02       \n",
      "\n",
      "Explored 25 nodes in 0.835 seconds: optimal solution found with cost 5.391e-02.\n"
     ]
    }
   ],
   "source": [
    "u0 = np.concatenate((uc0, ub0))\n",
    "x1 = mld.A.dot(x0) + mld.B.dot(u0) + e0\n",
    "solution, leaves = controller.feedforward(\n",
    "    x1,\n",
    "    warm_start=warm_start,\n",
    "#     draw_label='Cart pole with walls warm start'\n",
    ")"
   ]
  },
  {
   "cell_type": "code",
   "execution_count": 13,
   "metadata": {},
   "outputs": [
    {
     "name": "stdout",
     "output_type": "stream",
     "text": [
      "|    Updates    |    Time (s)   |  Solved nodes |  Lower bound  |  Upper bound  |\n",
      " --------------- --------------- --------------- --------------- ---------------\n",
      " Root node       0.03            1               3.931e-02       inf             \n",
      "                 3.05            99              5.376e-02       inf             \n",
      "                 6.07            183             5.391e-02       inf             \n",
      " New incumbent   6.30            190             5.391e-02       5.391e-02       \n",
      " Solution found  6.30            190             5.391e-02       5.391e-02       \n",
      "\n",
      "Explored 190 nodes in 6.304 seconds: optimal solution found with cost 5.391e-02.\n"
     ]
    }
   ],
   "source": [
    "solution, leaves = controller.feedforward(x1)"
   ]
  },
  {
   "cell_type": "markdown",
   "metadata": {},
   "source": [
    "## Solve in closed loop"
   ]
  },
  {
   "cell_type": "code",
   "execution_count": 14,
   "metadata": {},
   "outputs": [
    {
     "data": {
      "text/html": [
       "\n",
       "<div style=\"height: 400px; width: 600px; overflow-x: auto; overflow-y: hidden; resize: both\">\n",
       "<iframe src=\"http://127.0.0.1:7000/static/\" style=\"width: 100%; height: 100%; border: none\"></iframe>\n",
       "</div>\n"
      ],
      "text/plain": [
       "<IPython.core.display.HTML object>"
      ]
     },
     "execution_count": 14,
     "metadata": {},
     "output_type": "execute_result"
    }
   ],
   "source": [
    "from visualizer import vis, visualize\n",
    "vis.jupyter_cell()"
   ]
  },
  {
   "cell_type": "code",
   "execution_count": 15,
   "metadata": {},
   "outputs": [
    {
     "name": "stdout",
     "output_type": "stream",
     "text": [
      "Time step 0.\n",
      "|    Updates    |    Time (s)   |  Solved nodes |  Lower bound  |  Upper bound  |\n",
      " --------------- --------------- --------------- --------------- ---------------\n",
      " Root node       0.04            1               4.266e-02       inf             \n",
      "                 3.06            86              5.864e-02       inf             \n",
      "                 6.06            176             6.214e-02       inf             \n",
      " New incumbent   6.32            184             6.214e-02       6.214e-02       \n",
      " Solution found  6.32            184             6.214e-02       6.214e-02       \n",
      "\n",
      "Explored 184 nodes in 6.319 seconds: optimal solution found with cost 6.214e-02.\n",
      "predicted state: [ 0.05        0.          0.92435119 -0.07564881]\n",
      "true state: [ 0.04814312 -0.00186037  0.92405416 -0.076243  ]\n",
      "modeling error: [-0.00185688 -0.00186037 -0.00029703 -0.00059419]\n",
      "Time step 1.\n",
      "Loaded warm start with 93 nodes. Lower bound from warm start is 0.000.\n",
      "|    Updates    |    Time (s)   |  Solved nodes |  Lower bound  |  Upper bound  |\n",
      " --------------- --------------- --------------- --------------- ---------------\n",
      " New incumbent   1.26            38              5.311e-02       5.311e-02       \n",
      " Solution found  1.29            39              5.311e-02       5.311e-02       \n",
      "\n",
      "Explored 39 nodes in 1.294 seconds: optimal solution found with cost 5.311e-02.\n",
      "predicted state: [ 0.09434582 -0.00567252  0.86054039 -0.14068695]\n",
      "true state: [ 0.09277185 -0.00728722  0.85935402 -0.14306331]\n",
      "modeling error: [-0.00157397 -0.0016147  -0.00118638 -0.00237635]\n",
      "Time step 2.\n",
      "Loaded warm start with 107 nodes. Lower bound from warm start is 0.000.\n",
      "|    Updates    |    Time (s)   |  Solved nodes |  Lower bound  |  Upper bound  |\n",
      " --------------- --------------- --------------- --------------- ---------------\n",
      " New incumbent   0.83            24              4.638e-02       4.638e-02       \n",
      " Solution found  0.83            24              4.638e-02       4.638e-02       \n",
      "\n",
      "Explored 24 nodes in 0.826 seconds: optimal solution found with cost 4.638e-02.\n",
      "predicted state: [ 0.13573955 -0.01444039  0.80415047 -0.20191047]\n",
      "true state: [ 0.13435673 -0.01594322  0.80218632 -0.20586087]\n",
      "modeling error: [-0.00138282 -0.00150283 -0.00196415 -0.0039504 ]\n",
      "Time step 3.\n",
      "Loaded warm start with 112 nodes. Lower bound from warm start is 0.000.\n",
      "|    Updates    |    Time (s)   |  Solved nodes |  Lower bound  |  Upper bound  |\n",
      " --------------- --------------- --------------- --------------- ---------------\n",
      " New incumbent   1.21            27              4.127e-02       4.127e-02       \n",
      " Solution found  1.26            28              4.127e-02       4.127e-02       \n",
      "\n",
      "Explored 28 nodes in 1.264 seconds: optimal solution found with cost 4.127e-02.\n",
      "predicted state: [ 0.17446605 -0.02623627  0.75214995 -0.26386885]\n",
      "true state: [ 0.17319884 -0.02774162  0.7494813  -0.26928293]\n",
      "modeling error: [-0.00126721 -0.00150536 -0.00266865 -0.00541408]\n",
      "Time step 4.\n",
      "Loaded warm start with 117 nodes. Lower bound from warm start is 0.000.\n",
      "|    Updates    |    Time (s)   |  Solved nodes |  Lower bound  |  Upper bound  |\n",
      " --------------- --------------- --------------- --------------- ---------------\n",
      " New incumbent   0.91            24              3.732e-02       3.732e-02       \n",
      " Solution found  0.95            25              3.732e-02       3.732e-02       \n",
      "\n",
      "Explored 25 nodes in 0.952 seconds: optimal solution found with cost 3.732e-02.\n",
      "predicted state: [ 0.2106729  -0.04120577  0.70189632 -0.33073872]\n",
      "true state: [ 0.2094563  -0.04281721  0.69858431 -0.33756708]\n",
      "modeling error: [-0.0012166  -0.00161144 -0.00331201 -0.00682836]\n",
      "Time step 5.\n",
      "Loaded warm start with 122 nodes. Lower bound from warm start is 0.000.\n",
      "|    Updates    |    Time (s)   |  Solved nodes |  Lower bound  |  Upper bound  |\n",
      " --------------- --------------- --------------- --------------- ---------------\n",
      " New incumbent   1.15            24              3.420e-02       3.420e-02       \n",
      " Solution found  1.15            24              3.420e-02       3.420e-02       \n",
      "\n",
      "Explored 24 nodes in 1.153 seconds: optimal solution found with cost 3.420e-02.\n",
      "predicted state: [ 0.24438552 -0.05969556  0.65094593 -0.40661406]\n",
      "true state: [ 0.2431606  -0.06151276  0.64708025 -0.41481776]\n",
      "modeling error: [-0.00122492 -0.0018172  -0.00386569 -0.0082037 ]\n",
      "Time step 6.\n",
      "Loaded warm start with 128 nodes. Lower bound from warm start is 0.000.\n",
      "|    Updates    |    Time (s)   |  Solved nodes |  Lower bound  |  Upper bound  |\n",
      " --------------- --------------- --------------- --------------- ---------------\n",
      " New incumbent   1.08            25              3.167e-02       3.167e-02       \n",
      " Solution found  1.12            26              3.167e-02       3.167e-02       \n",
      "\n",
      "Explored 26 nodes in 1.117 seconds: optimal solution found with cost 3.167e-02.\n",
      "predicted state: [ 0.27551461 -0.08225365  0.59688658 -0.4957678 ]\n",
      "true state: [ 0.274225   -0.08437823  0.59265703 -0.50523439]\n",
      "modeling error: [-0.00128961 -0.00212458 -0.00422955 -0.00946659]\n",
      "Time step 7.\n",
      "Loaded warm start with 135 nodes. Lower bound from warm start is 0.000.\n",
      "|    Updates    |    Time (s)   |  Solved nodes |  Lower bound  |  Upper bound  |\n",
      " --------------- --------------- --------------- --------------- ---------------\n",
      " New incumbent   0.91            26              2.954e-02       2.954e-02       \n",
      " Solution found  0.91            26              2.954e-02       2.954e-02       \n",
      "\n",
      "Explored 26 nodes in 0.909 seconds: optimal solution found with cost 2.954e-02.\n",
      "predicted state: [ 0.30385785 -0.10963995  0.53717125 -0.60290928]\n",
      "true state: [ 0.3024468  -0.11218048  0.53299849 -0.61330204]\n",
      "modeling error: [-0.00141105 -0.00254053 -0.00417276 -0.01039276]\n",
      "Time step 8.\n",
      "Loaded warm start with 141 nodes. Lower bound from warm start is 0.000.\n",
      "|    Updates    |    Time (s)   |  Solved nodes |  Lower bound  |  Upper bound  |\n",
      " --------------- --------------- --------------- --------------- ---------------\n",
      " New incumbent   0.85            25              2.765e-02       2.765e-02       \n",
      " Solution found  0.89            26              2.765e-02       2.765e-02       \n",
      "\n",
      "Explored 26 nodes in 0.890 seconds: optimal solution found with cost 2.765e-02.\n",
      "predicted state: [ 0.32909672 -0.14284558  0.46892398 -0.73346679]\n",
      "true state: [ 0.32750445 -0.14592204  0.46569938 -0.74394836]\n",
      "modeling error: [-0.00159227 -0.00307646 -0.0032246  -0.01048157]\n",
      "Time step 9.\n",
      "Loaded warm start with 147 nodes. Lower bound from warm start is 0.000.\n",
      "|    Updates    |    Time (s)   |  Solved nodes |  Lower bound  |  Upper bound  |\n",
      " --------------- --------------- --------------- --------------- ---------------\n",
      " New incumbent   0.96            27              2.593e-02       2.593e-02       \n",
      " Solution found  0.96            27              2.593e-02       2.593e-02       \n",
      "\n",
      "Explored 27 nodes in 0.965 seconds: optimal solution found with cost 2.593e-02.\n",
      "predicted state: [ 0.35078942 -0.18311946  0.3841791  -0.89842966]\n",
      "true state: [ 0.34853408 -0.17671088  0.36162544 -0.19875575]\n",
      "modeling error: [-0.00225534  0.00640858 -0.02255367  0.69967391]\n",
      "Time step 10.\n",
      "Loaded warm start with 154 nodes. Lower bound from warm start is 0.000.\n",
      "|    Updates    |    Time (s)   |  Solved nodes |  Lower bound  |  Upper bound  |\n",
      " --------------- --------------- --------------- --------------- ---------------\n",
      "                 3.01            73              1.839e-02       inf             \n",
      "                 6.01            157             3.749e-02       inf             \n",
      "                 9.04            240             5.321e-02       inf             \n"
     ]
    },
    {
     "ename": "KeyboardInterrupt",
     "evalue": "",
     "output_type": "error",
     "traceback": [
      "\u001b[0;31m---------------------------------------------------------------------------\u001b[0m",
      "\u001b[0;31mKeyboardInterrupt\u001b[0m                         Traceback (most recent call last)",
      "\u001b[0;32m<ipython-input-15-c210ba08e7dd>\u001b[0m in \u001b[0;36m<module>\u001b[0;34m\u001b[0m\n\u001b[1;32m     13\u001b[0m     solution, leaves = controller.feedforward(\n\u001b[1;32m     14\u001b[0m         \u001b[0mx_sim\u001b[0m\u001b[0;34m[\u001b[0m\u001b[0;34m-\u001b[0m\u001b[0;36m1\u001b[0m\u001b[0;34m]\u001b[0m\u001b[0;34m,\u001b[0m\u001b[0;34m\u001b[0m\u001b[0;34m\u001b[0m\u001b[0m\n\u001b[0;32m---> 15\u001b[0;31m         \u001b[0mwarm_start\u001b[0m\u001b[0;34m=\u001b[0m\u001b[0mwarm_start\u001b[0m\u001b[0;34m,\u001b[0m\u001b[0;34m\u001b[0m\u001b[0;34m\u001b[0m\u001b[0m\n\u001b[0m\u001b[1;32m     16\u001b[0m \u001b[0;31m#         printing_period=None\u001b[0m\u001b[0;34m\u001b[0m\u001b[0;34m\u001b[0m\u001b[0;34m\u001b[0m\u001b[0m\n\u001b[1;32m     17\u001b[0m     )\n",
      "\u001b[0;32m~/codes/warm_start_hmpc/warm_start_hmpc/controller.py\u001b[0m in \u001b[0;36mfeedforward\u001b[0;34m(self, x0, **kwargs)\u001b[0m\n\u001b[1;32m    305\u001b[0m \u001b[0;34m\u001b[0m\u001b[0m\n\u001b[1;32m    306\u001b[0m         \u001b[0;31m# solve the mixed integer program using branch and bound\u001b[0m\u001b[0;34m\u001b[0m\u001b[0;34m\u001b[0m\u001b[0;34m\u001b[0m\u001b[0m\n\u001b[0;32m--> 307\u001b[0;31m         \u001b[0mincumbent\u001b[0m\u001b[0;34m,\u001b[0m \u001b[0mleaves\u001b[0m \u001b[0;34m=\u001b[0m \u001b[0mbranch_and_bound\u001b[0m\u001b[0;34m(\u001b[0m\u001b[0msolver\u001b[0m\u001b[0;34m,\u001b[0m \u001b[0mbest_first\u001b[0m\u001b[0;34m,\u001b[0m \u001b[0mself\u001b[0m\u001b[0;34m.\u001b[0m\u001b[0m_brancher\u001b[0m\u001b[0;34m,\u001b[0m \u001b[0;34m**\u001b[0m\u001b[0mkwargs\u001b[0m\u001b[0;34m)\u001b[0m\u001b[0;34m\u001b[0m\u001b[0;34m\u001b[0m\u001b[0m\n\u001b[0m\u001b[1;32m    308\u001b[0m \u001b[0;34m\u001b[0m\u001b[0m\n\u001b[1;32m    309\u001b[0m         \u001b[0;31m# infeasible problem\u001b[0m\u001b[0;34m\u001b[0m\u001b[0;34m\u001b[0m\u001b[0;34m\u001b[0m\u001b[0m\n",
      "\u001b[0;32m~/codes/warm_start_hmpc/warm_start_hmpc/branch_and_bound.py\u001b[0m in \u001b[0;36mbranch_and_bound\u001b[0;34m(solver, candidate_selection, brancher, tol, warm_start, printing_period, draw_label, **kwargs)\u001b[0m\n\u001b[1;32m    463\u001b[0m         \u001b[0mworking_node\u001b[0m \u001b[0;34m=\u001b[0m \u001b[0mcandidate_selection\u001b[0m\u001b[0;34m(\u001b[0m\u001b[0mcandidate_nodes\u001b[0m\u001b[0;34m)\u001b[0m\u001b[0;34m\u001b[0m\u001b[0;34m\u001b[0m\u001b[0m\n\u001b[1;32m    464\u001b[0m         \u001b[0mcutoff\u001b[0m \u001b[0;34m=\u001b[0m \u001b[0mub\u001b[0m \u001b[0;34m-\u001b[0m \u001b[0mtol\u001b[0m\u001b[0;34m\u001b[0m\u001b[0;34m\u001b[0m\u001b[0m\n\u001b[0;32m--> 465\u001b[0;31m         \u001b[0mworking_node\u001b[0m\u001b[0;34m.\u001b[0m\u001b[0msolve\u001b[0m\u001b[0;34m(\u001b[0m\u001b[0msolver\u001b[0m\u001b[0;34m,\u001b[0m \u001b[0mcutoff\u001b[0m\u001b[0;34m)\u001b[0m\u001b[0;34m\u001b[0m\u001b[0;34m\u001b[0m\u001b[0m\n\u001b[0m\u001b[1;32m    466\u001b[0m \u001b[0;34m\u001b[0m\u001b[0m\n\u001b[1;32m    467\u001b[0m         \u001b[0;31m# pruning\u001b[0m\u001b[0;34m\u001b[0m\u001b[0;34m\u001b[0m\u001b[0;34m\u001b[0m\u001b[0m\n",
      "\u001b[0;32m~/codes/warm_start_hmpc/warm_start_hmpc/branch_and_bound.py\u001b[0m in \u001b[0;36msolve\u001b[0;34m(self, solver, cutoff)\u001b[0m\n\u001b[1;32m     48\u001b[0m \u001b[0;34m\u001b[0m\u001b[0m\n\u001b[1;32m     49\u001b[0m         \u001b[0;31m# solve subproblem (overwrites some of the attributes)\u001b[0m\u001b[0;34m\u001b[0m\u001b[0;34m\u001b[0m\u001b[0;34m\u001b[0m\u001b[0m\n\u001b[0;32m---> 50\u001b[0;31m         \u001b[0;34m[\u001b[0m\u001b[0mself\u001b[0m\u001b[0;34m.\u001b[0m\u001b[0mlb\u001b[0m\u001b[0;34m,\u001b[0m \u001b[0mself\u001b[0m\u001b[0;34m.\u001b[0m\u001b[0mbinary_feasible\u001b[0m\u001b[0;34m,\u001b[0m \u001b[0mself\u001b[0m\u001b[0;34m.\u001b[0m\u001b[0mextra\u001b[0m\u001b[0;34m]\u001b[0m \u001b[0;34m=\u001b[0m \u001b[0msolver\u001b[0m\u001b[0;34m(\u001b[0m\u001b[0mself\u001b[0m\u001b[0;34m.\u001b[0m\u001b[0midentifier\u001b[0m\u001b[0;34m,\u001b[0m \u001b[0mcutoff\u001b[0m\u001b[0;34m)\u001b[0m\u001b[0;34m\u001b[0m\u001b[0;34m\u001b[0m\u001b[0m\n\u001b[0m\u001b[1;32m     51\u001b[0m \u001b[0;34m\u001b[0m\u001b[0m\n\u001b[1;32m     52\u001b[0m \u001b[0;32mclass\u001b[0m \u001b[0mPrinter\u001b[0m\u001b[0;34m(\u001b[0m\u001b[0mobject\u001b[0m\u001b[0;34m)\u001b[0m\u001b[0;34m:\u001b[0m\u001b[0;34m\u001b[0m\u001b[0;34m\u001b[0m\u001b[0m\n",
      "\u001b[0;32m~/codes/warm_start_hmpc/warm_start_hmpc/controller.py\u001b[0m in \u001b[0;36msolver\u001b[0;34m(identifier, cutoff)\u001b[0m\n\u001b[1;32m    301\u001b[0m         \u001b[0;31m# generate a solver for the branch and bound algorithm\u001b[0m\u001b[0;34m\u001b[0m\u001b[0;34m\u001b[0m\u001b[0;34m\u001b[0m\u001b[0m\n\u001b[1;32m    302\u001b[0m         \u001b[0;32mdef\u001b[0m \u001b[0msolver\u001b[0m\u001b[0;34m(\u001b[0m\u001b[0midentifier\u001b[0m\u001b[0;34m,\u001b[0m \u001b[0mcutoff\u001b[0m\u001b[0;34m)\u001b[0m\u001b[0;34m:\u001b[0m\u001b[0;34m\u001b[0m\u001b[0;34m\u001b[0m\u001b[0m\n\u001b[0;32m--> 303\u001b[0;31m             \u001b[0msolution\u001b[0m \u001b[0;34m=\u001b[0m \u001b[0mself\u001b[0m\u001b[0;34m.\u001b[0m\u001b[0m_solve_subproblem\u001b[0m\u001b[0;34m(\u001b[0m\u001b[0midentifier\u001b[0m\u001b[0;34m,\u001b[0m \u001b[0mx0\u001b[0m\u001b[0;34m,\u001b[0m \u001b[0mcutoff\u001b[0m\u001b[0;34m)\u001b[0m\u001b[0;34m\u001b[0m\u001b[0;34m\u001b[0m\u001b[0m\n\u001b[0m\u001b[1;32m    304\u001b[0m             \u001b[0;32mreturn\u001b[0m \u001b[0msolution\u001b[0m\u001b[0;34m.\u001b[0m\u001b[0mprimal\u001b[0m\u001b[0;34m.\u001b[0m\u001b[0mobjective\u001b[0m\u001b[0;34m,\u001b[0m \u001b[0msolution\u001b[0m\u001b[0;34m.\u001b[0m\u001b[0mprimal\u001b[0m\u001b[0;34m.\u001b[0m\u001b[0mbinary_feasible\u001b[0m\u001b[0;34m,\u001b[0m \u001b[0msolution\u001b[0m\u001b[0;34m\u001b[0m\u001b[0;34m\u001b[0m\u001b[0m\n\u001b[1;32m    305\u001b[0m \u001b[0;34m\u001b[0m\u001b[0m\n",
      "\u001b[0;32m~/codes/warm_start_hmpc/warm_start_hmpc/controller.py\u001b[0m in \u001b[0;36m_solve_subproblem\u001b[0;34m(self, identifier, x0, cutoff)\u001b[0m\n\u001b[1;32m    219\u001b[0m         \u001b[0;31m# set initial conditions\u001b[0m\u001b[0;34m\u001b[0m\u001b[0;34m\u001b[0m\u001b[0;34m\u001b[0m\u001b[0m\n\u001b[1;32m    220\u001b[0m         \u001b[0mself\u001b[0m\u001b[0;34m.\u001b[0m\u001b[0mqp\u001b[0m\u001b[0;34m.\u001b[0m\u001b[0mset_constraint_rhs\u001b[0m\u001b[0;34m(\u001b[0m\u001b[0;34m'lam_0'\u001b[0m\u001b[0;34m,\u001b[0m \u001b[0mx0\u001b[0m\u001b[0;34m)\u001b[0m\u001b[0;34m\u001b[0m\u001b[0;34m\u001b[0m\u001b[0m\n\u001b[0;32m--> 221\u001b[0;31m         \u001b[0mself\u001b[0m\u001b[0;34m.\u001b[0m\u001b[0m_set_bound_binaries\u001b[0m\u001b[0;34m(\u001b[0m\u001b[0midentifier\u001b[0m\u001b[0;34m)\u001b[0m\u001b[0;34m\u001b[0m\u001b[0;34m\u001b[0m\u001b[0m\n\u001b[0m\u001b[1;32m    222\u001b[0m \u001b[0;34m\u001b[0m\u001b[0m\n\u001b[1;32m    223\u001b[0m         \u001b[0;31m# run the optimization and initialize the result\u001b[0m\u001b[0;34m\u001b[0m\u001b[0;34m\u001b[0m\u001b[0;34m\u001b[0m\u001b[0m\n",
      "\u001b[0;32m~/codes/warm_start_hmpc/warm_start_hmpc/controller.py\u001b[0m in \u001b[0;36m_set_bound_binaries\u001b[0;34m(self, identifier)\u001b[0m\n\u001b[1;32m    251\u001b[0m             \u001b[0;31m# set bounds\u001b[0m\u001b[0;34m\u001b[0m\u001b[0;34m\u001b[0m\u001b[0;34m\u001b[0m\u001b[0m\n\u001b[1;32m    252\u001b[0m             \u001b[0mself\u001b[0m\u001b[0;34m.\u001b[0m\u001b[0mqp\u001b[0m\u001b[0;34m.\u001b[0m\u001b[0mset_constraint_rhs\u001b[0m\u001b[0;34m(\u001b[0m\u001b[0;34m'nu_lb_%d'\u001b[0m\u001b[0;34m%\u001b[0m\u001b[0mt\u001b[0m\u001b[0;34m,\u001b[0m \u001b[0mlb_t\u001b[0m\u001b[0;34m)\u001b[0m\u001b[0;34m\u001b[0m\u001b[0;34m\u001b[0m\u001b[0m\n\u001b[0;32m--> 253\u001b[0;31m             \u001b[0mself\u001b[0m\u001b[0;34m.\u001b[0m\u001b[0mqp\u001b[0m\u001b[0;34m.\u001b[0m\u001b[0mset_constraint_rhs\u001b[0m\u001b[0;34m(\u001b[0m\u001b[0;34m'nu_ub_%d'\u001b[0m\u001b[0;34m%\u001b[0m\u001b[0mt\u001b[0m\u001b[0;34m,\u001b[0m \u001b[0mub_t\u001b[0m\u001b[0;34m)\u001b[0m\u001b[0;34m\u001b[0m\u001b[0;34m\u001b[0m\u001b[0m\n\u001b[0m\u001b[1;32m    254\u001b[0m \u001b[0;34m\u001b[0m\u001b[0m\n\u001b[1;32m    255\u001b[0m     \u001b[0;32mdef\u001b[0m \u001b[0m_get_bound_binaries\u001b[0m\u001b[0;34m(\u001b[0m\u001b[0mself\u001b[0m\u001b[0;34m,\u001b[0m \u001b[0midentifier\u001b[0m\u001b[0;34m)\u001b[0m\u001b[0;34m:\u001b[0m\u001b[0;34m\u001b[0m\u001b[0;34m\u001b[0m\u001b[0m\n",
      "\u001b[0;32m~/codes/warm_start_hmpc/warm_start_hmpc/bounded_qp.py\u001b[0m in \u001b[0;36mset_constraint_rhs\u001b[0;34m(self, name, rhs)\u001b[0m\n\u001b[1;32m    171\u001b[0m \u001b[0;34m\u001b[0m\u001b[0m\n\u001b[1;32m    172\u001b[0m         \u001b[0;31m# check input size\u001b[0m\u001b[0;34m\u001b[0m\u001b[0;34m\u001b[0m\u001b[0;34m\u001b[0m\u001b[0m\n\u001b[0;32m--> 173\u001b[0;31m         \u001b[0mc\u001b[0m \u001b[0;34m=\u001b[0m \u001b[0mself\u001b[0m\u001b[0;34m.\u001b[0m\u001b[0mget_constraints\u001b[0m\u001b[0;34m(\u001b[0m\u001b[0mname\u001b[0m\u001b[0;34m)\u001b[0m\u001b[0;34m\u001b[0m\u001b[0;34m\u001b[0m\u001b[0m\n\u001b[0m\u001b[1;32m    174\u001b[0m         \u001b[0;32mif\u001b[0m \u001b[0mlen\u001b[0m\u001b[0;34m(\u001b[0m\u001b[0mc\u001b[0m\u001b[0;34m)\u001b[0m \u001b[0;34m!=\u001b[0m \u001b[0mlen\u001b[0m\u001b[0;34m(\u001b[0m\u001b[0mrhs\u001b[0m\u001b[0;34m)\u001b[0m\u001b[0;34m:\u001b[0m\u001b[0;34m\u001b[0m\u001b[0;34m\u001b[0m\u001b[0m\n\u001b[1;32m    175\u001b[0m             \u001b[0;32mraise\u001b[0m \u001b[0mValueError\u001b[0m\u001b[0;34m(\u001b[0m\u001b[0;34m'The rhs does not have the right dimension.'\u001b[0m\u001b[0;34m)\u001b[0m\u001b[0;34m\u001b[0m\u001b[0;34m\u001b[0m\u001b[0m\n",
      "\u001b[0;32m~/codes/warm_start_hmpc/warm_start_hmpc/bounded_qp.py\u001b[0m in \u001b[0;36mget_constraints\u001b[0;34m(self, name)\u001b[0m\n\u001b[1;32m    148\u001b[0m \u001b[0;34m\u001b[0m\u001b[0m\n\u001b[1;32m    149\u001b[0m             \u001b[0;31m# get new constraint and append\u001b[0m\u001b[0;34m\u001b[0m\u001b[0;34m\u001b[0m\u001b[0;34m\u001b[0m\u001b[0m\n\u001b[0;32m--> 150\u001b[0;31m             \u001b[0mci\u001b[0m \u001b[0;34m=\u001b[0m \u001b[0mself\u001b[0m\u001b[0;34m.\u001b[0m\u001b[0mgetConstrByName\u001b[0m\u001b[0;34m(\u001b[0m\u001b[0mname\u001b[0m\u001b[0;34m+\u001b[0m\u001b[0;34m'[%d]'\u001b[0m\u001b[0;34m%\u001b[0m\u001b[0mi\u001b[0m\u001b[0;34m)\u001b[0m\u001b[0;34m\u001b[0m\u001b[0;34m\u001b[0m\u001b[0m\n\u001b[0m\u001b[1;32m    151\u001b[0m             \u001b[0;32mif\u001b[0m \u001b[0mci\u001b[0m\u001b[0;34m:\u001b[0m\u001b[0;34m\u001b[0m\u001b[0;34m\u001b[0m\u001b[0m\n\u001b[1;32m    152\u001b[0m                 \u001b[0mc\u001b[0m \u001b[0;34m=\u001b[0m \u001b[0mnp\u001b[0m\u001b[0;34m.\u001b[0m\u001b[0mappend\u001b[0m\u001b[0;34m(\u001b[0m\u001b[0mc\u001b[0m\u001b[0;34m,\u001b[0m \u001b[0mci\u001b[0m\u001b[0;34m)\u001b[0m\u001b[0;34m\u001b[0m\u001b[0;34m\u001b[0m\u001b[0m\n",
      "\u001b[0;31mKeyboardInterrupt\u001b[0m: "
     ]
    }
   ],
   "source": [
    "# np.random.seed(1)\n",
    "\n",
    "# set up simulation\n",
    "T_sim = 30\n",
    "x_sim = [x0]\n",
    "u_sim = []\n",
    "warm_start = None\n",
    "\n",
    "for t in range(T_sim):\n",
    "    print('Time step %d.'%t)\n",
    "    \n",
    "    # solve miqp\n",
    "    solution, leaves = controller.feedforward(\n",
    "        x_sim[-1],\n",
    "        warm_start=warm_start,\n",
    "#         printing_period=None\n",
    "    )\n",
    "    \n",
    "    # reorganize solution\n",
    "    uc0 = solution.variables['uc'][0]\n",
    "    ub0 = solution.variables['ub'][0]\n",
    "    u0 = np.concatenate((uc0, ub0))\n",
    "    x1 = simulate(x_sim[-1], h, uc0[0])[-1]\n",
    "#     x1 = solution.variables['x'][1]\n",
    "    e0 = x1 - mld.A.dot(x_sim[-1]) - mld.B.dot(u0)\n",
    "    print('predicted state:', solution.variables['x'][1])\n",
    "    print('true state:', x1)\n",
    "    print('modeling error:', e0)\n",
    "    visualize(x1)\n",
    "    \n",
    "    # generate warm start\n",
    "    warm_start = controller.construct_warm_start(leaves, x_sim[-1], uc0, ub0, e0)\n",
    "    \n",
    "    # retrieve closed-loop trajectory\n",
    "    x_sim.append(x1)\n",
    "    u_sim.append(uc0)"
   ]
  },
  {
   "cell_type": "markdown",
   "metadata": {},
   "source": [
    "## Animation"
   ]
  },
  {
   "cell_type": "code",
   "execution_count": null,
   "metadata": {},
   "outputs": [],
   "source": [
    "from visualizer import vis, animate\n",
    "vis.jupyter_cell()"
   ]
  },
  {
   "cell_type": "code",
   "execution_count": null,
   "metadata": {},
   "outputs": [],
   "source": [
    "animate(x_sim, h)"
   ]
  }
 ],
 "metadata": {
  "kernelspec": {
   "display_name": "Python 3",
   "language": "python",
   "name": "python3"
  },
  "language_info": {
   "codemirror_mode": {
    "name": "ipython",
    "version": 3
   },
   "file_extension": ".py",
   "mimetype": "text/x-python",
   "name": "python",
   "nbconvert_exporter": "python",
   "pygments_lexer": "ipython3",
   "version": "3.7.3"
  }
 },
 "nbformat": 4,
 "nbformat_minor": 2
}
