{
 "cells": [
  {
   "cell_type": "code",
   "execution_count": null,
   "metadata": {},
   "outputs": [],
   "source": [
    "# notebook settings\n",
    "%load_ext autoreload\n",
    "%autoreload 2\n",
    "%matplotlib notebook\n",
    "\n",
    "# external imports\n",
    "import numpy as np\n",
    "import sympy as sp\n",
    "import matplotlib.pyplot as plt"
   ]
  },
  {
   "cell_type": "code",
   "execution_count": null,
   "metadata": {},
   "outputs": [],
   "source": [
    "N_sim = 50"
   ]
  },
  {
   "cell_type": "code",
   "execution_count": null,
   "metadata": {},
   "outputs": [],
   "source": [
    "e_sigmas = [0., 0.001, 0.003, 0.010]\n",
    "nodes = {}\n",
    "nodes_ws = {}\n",
    "len_ws = {}\n",
    "for e in e_sigmas:\n",
    "    nodes[e] = list(np.load('data/nodes_sd_%.3f.npy'%e, allow_pickle=True))\n",
    "    if e == 0.:\n",
    "        nodes_ws[e] = np.load('data/nodes_ws_sd_%.3f.npy'%e, allow_pickle=True)[:,1:]\n",
    "        len_ws[e] = np.load('data/len_ws_sd_%.3f.npy'%e, allow_pickle=True)[:,:-1]\n",
    "    else:\n",
    "        nodes_ws[e] = [n[1:] for n in np.load('data/nodes_ws_sd_%.3f.npy'%e, allow_pickle=True)]\n",
    "        len_ws[e] = [n[:-1] for n in np.load('data/len_ws_sd_%.3f.npy'%e, allow_pickle=True)]"
   ]
  },
  {
   "cell_type": "code",
   "execution_count": null,
   "metadata": {},
   "outputs": [],
   "source": [
    "# remove infeasible trajecotories\n",
    "for e in e_sigmas[1:]:\n",
    "    nodes[e] = [n for n in nodes[e] if len(n) == N_sim]\n",
    "    nodes_ws[e] = [n for n in nodes_ws[e] if len(n) == N_sim-1]\n",
    "    len_ws[e] = [n for n in len_ws[e] if len(n) == N_sim-1]"
   ]
  },
  {
   "cell_type": "code",
   "execution_count": null,
   "metadata": {},
   "outputs": [],
   "source": [
    "def get_statistics(data, len_data):\n",
    "    mins = []\n",
    "    p80 = []\n",
    "    p90 = []\n",
    "    maxs = []\n",
    "    for t in range(len_data):\n",
    "        n_t = [float(n[t]) for n in data]\n",
    "        mins.append(min(n_t))\n",
    "#         means.append(sum(n_t)/len(n_t))\n",
    "#         means.append(np.median(n_t))\n",
    "        p80.append(np.percentile(n_t, 80))\n",
    "        p90.append(np.percentile(n_t, 90))\n",
    "        maxs.append(max(n_t))\n",
    "    return mins, p80, p90, maxs"
   ]
  },
  {
   "cell_type": "code",
   "execution_count": null,
   "metadata": {},
   "outputs": [],
   "source": [
    "def plot_statistics(ax, data, t0=0, **kwargs):\n",
    "    mins, p80, p90, maxs = get_statistics(data, N_sim-t0)\n",
    "    ax.plot(range(t0, N_sim), mins, **kwargs)\n",
    "    ax.plot(range(t0, N_sim), maxs, **kwargs)\n",
    "    ax.plot(range(t0, N_sim), p80, linestyle='--', **kwargs)\n",
    "    ax.plot(range(t0, N_sim), p90, linestyle=':', **kwargs)\n",
    "    ax.fill_between(range(t0, N_sim), mins, maxs, alpha=.1, **kwargs)"
   ]
  },
  {
   "cell_type": "code",
   "execution_count": null,
   "metadata": {},
   "outputs": [],
   "source": [
    "from decimal import Decimal\n",
    "\n",
    "def fexp(number):\n",
    "    (sign, digits, exponent) = Decimal(number).as_tuple()\n",
    "    return len(digits) + exponent - 1\n",
    "\n",
    "def fman(number):\n",
    "    return Decimal(number).scaleb(-fexp(number)).normalize()"
   ]
  },
  {
   "cell_type": "code",
   "execution_count": null,
   "metadata": {},
   "outputs": [],
   "source": [
    "plt.rc('text', usetex=True)\n",
    "plt.rc('font', family='serif')\n",
    "plt.rcParams.update({'font.size': 12})"
   ]
  },
  {
   "cell_type": "code",
   "execution_count": null,
   "metadata": {},
   "outputs": [],
   "source": [
    "import matplotlib.gridspec as gridspec\n",
    "fig = plt.figure(figsize=(6,10))\n",
    "gridspec.GridSpec(20,1)\n",
    "\n",
    "# sizes of the subplots\n",
    "heights = [175, 175, 350, 700]\n",
    "rowspans = [2, 2, 4, 8]\n",
    "xticks = range(0, N_sim+1, 5)\n",
    "\n",
    "# nominal case\n",
    "plt.subplot2grid((20, 1), (0,0), rowspan=rowspans[0], colspan=1)\n",
    "plt.title(r'Model-error standard deviation $\\sigma_i = 0$')\n",
    "plt.plot(range(len(nodes[0.][0])), nodes[0.][0], color='#1f77b4')\n",
    "plt.plot(range(1,len(len_ws[0.][0])+1), len_ws[0.][0], color=np.ones(3)*.6)#'#2ca02c')\n",
    "plt.plot(range(1,len(nodes_ws[0.][0])+1), nodes_ws[0.][0], color='#ff7f0e')\n",
    "plt.grid(True, color=np.ones(3)*.85)\n",
    "plt.xlim(0, N_sim)\n",
    "plt.ylim(0, heights[0])\n",
    "plt.xticks(xticks, ['']*len(xticks))\n",
    "\n",
    "# with disturbances\n",
    "for i, e in enumerate(e_sigmas[1:]):\n",
    "    i += 1\n",
    "    plt.subplot2grid(\n",
    "        (20, 1),\n",
    "        (sum(rowspans[:i]) + i,0),\n",
    "        rowspan=rowspans[i],\n",
    "        colspan=1\n",
    "    )\n",
    "    plot_statistics(plt, nodes[e], color='#1f77b4')\n",
    "    plot_statistics(plt, len_ws[e], t0=1, color=np.ones(3)*.6)#'#2ca02c')\n",
    "    plot_statistics(plt, nodes_ws[e], t0=1, color='#ff7f0e')\n",
    "    plt.grid(True, color=np.ones(3)*.85)\n",
    "    plt.xlim(0, N_sim)\n",
    "    plt.ylim(0, heights[i])\n",
    "    plt.xticks(xticks, ['']*len(xticks))\n",
    "    coef = float(fman(e_sigmas[i]))\n",
    "    exp = fexp(e_sigmas[i])\n",
    "    if coef == 1.:\n",
    "        plt.title(r'$\\sigma_i = 10^{%.0f} \\bar x_i$'%exp)\n",
    "    else:\n",
    "        plt.title(r'$\\sigma_i = %.0f \\cdot 10^{%.0f} \\bar x_i$'%(coef,exp))\n",
    "    \n",
    "# x axis\n",
    "plt.xlabel(r'Time step $\\tau$')\n",
    "plt.xticks(xticks, xticks)\n",
    "    \n",
    "# legend\n",
    "plt.scatter(-10., -10., color='#ff7f0e', label='QP solves w/ warm start')\n",
    "plt.scatter(-10., -10., color='#1f77b4', label='QP solves w/ cold start')\n",
    "# plt.scatter(-10., -10., color=np.ones(3)*.6, label=r'Warm-start size $|\\mathscr{V}_{\\tau}^0|$')#'#2ca02c')\n",
    "plt.scatter(-10., -10., color=np.ones(3)*.6, label=r'Initial-cover cardinality')#'#2ca02c')\n",
    "plt.plot(-10., -10., color='k', label='min, max')\n",
    "plt.plot(-10., -10., color='k', linestyle='--', label='80th percentile')\n",
    "plt.plot(-10., -10., color='k', linestyle=':', label='90th percentile')\n",
    "handles, labels = plt.gca().get_legend_handles_labels()\n",
    "order = [3,4,5,0,1,2] # 3 columns\n",
    "plt.legend(\n",
    "    [handles[i] for i in order],\n",
    "    [labels[i] for i in order],\n",
    "    loc='upper center',\n",
    "    bbox_to_anchor=(0.477, -0.15),\n",
    "    ncol=2\n",
    ")\n",
    "\n",
    "fig.tight_layout()\n",
    "fig.savefig('trends.pdf')"
   ]
  }
 ],
 "metadata": {
  "kernelspec": {
   "display_name": "Python 3",
   "language": "python",
   "name": "python3"
  },
  "language_info": {
   "codemirror_mode": {
    "name": "ipython",
    "version": 3
   },
   "file_extension": ".py",
   "mimetype": "text/x-python",
   "name": "python",
   "nbconvert_exporter": "python",
   "pygments_lexer": "ipython3",
   "version": "3.7.6"
  }
 },
 "nbformat": 4,
 "nbformat_minor": 2
}
