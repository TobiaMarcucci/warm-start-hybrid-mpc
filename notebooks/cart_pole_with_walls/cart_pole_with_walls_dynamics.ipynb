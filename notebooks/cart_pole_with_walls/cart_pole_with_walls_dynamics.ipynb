{
 "cells": [
  {
   "cell_type": "code",
   "execution_count": 1,
   "metadata": {},
   "outputs": [],
   "source": [
    "# notebook settings\n",
    "%load_ext autoreload\n",
    "%autoreload 2\n",
    "\n",
    "# external imports\n",
    "import numpy as np\n",
    "import sympy as sp\n",
    "from sympy.utilities import lambdify\n",
    "import matplotlib.pyplot as plt"
   ]
  },
  {
   "cell_type": "markdown",
   "metadata": {},
   "source": [
    "## Smooth dynamics"
   ]
  },
  {
   "cell_type": "code",
   "execution_count": 2,
   "metadata": {},
   "outputs": [],
   "source": [
    "# numeric parameters\n",
    "nominal_parameters = {}\n",
    "mc = sp.symbols('m_c') # mass cart\n",
    "nominal_parameters[mc] = 1.\n",
    "mp = sp.symbols('m_p') # mass pole\n",
    "nominal_parameters[mp] = 1.\n",
    "l = sp.symbols('l') # length pole\n",
    "nominal_parameters[l] = 1.\n",
    "d = sp.symbols('d') # distance walls from origin\n",
    "nominal_parameters[d] = .5\n",
    "g = sp.symbols('g') # gravity acceleration\n",
    "nominal_parameters[g] = 10.\n",
    "g_vec = sp.Matrix([0., -g])"
   ]
  },
  {
   "cell_type": "code",
   "execution_count": 3,
   "metadata": {},
   "outputs": [],
   "source": [
    "# state\n",
    "[qc, qp, qcd, qpd] = sp.symbols('q_c q_p \\dot{q}_c \\dot{q}_p')\n",
    "q = sp.Matrix([qc, qp])\n",
    "qd = sp.Matrix([qcd, qpd])\n",
    "x = sp.Matrix([q, qd])\n",
    "\n",
    "# input\n",
    "fc = sp.symbols('f_c')\n",
    "fc_vec = sp.Matrix([fc, 0])\n",
    "\n",
    "# contact forces\n",
    "[flw, frw] = sp.symbols('f_{lw} f_{rw}')\n",
    "flw_vec = sp.Matrix([flw, 0])\n",
    "frw_vec = sp.Matrix([-frw, 0])\n",
    "\n",
    "# all the external forces\n",
    "f = sp.Matrix([fc, flw, frw])"
   ]
  },
  {
   "cell_type": "code",
   "execution_count": 4,
   "metadata": {},
   "outputs": [],
   "source": [
    "# positions\n",
    "pc = sp.Matrix([qc, 0])\n",
    "pp = sp.Matrix([qc-l*sp.sin(qp), l*sp.cos(qp)])"
   ]
  },
  {
   "cell_type": "code",
   "execution_count": 5,
   "metadata": {},
   "outputs": [],
   "source": [
    "# velocities\n",
    "vc = pc.jacobian(q)*qd\n",
    "vp = pp.jacobian(q)*qd"
   ]
  },
  {
   "cell_type": "code",
   "execution_count": 7,
   "metadata": {},
   "outputs": [],
   "source": [
    "# lagrangian function\n",
    "T = .5*mc*(vc.T*vc) + .5*mp*(vp.T*vp)\n",
    "T.simplify()\n",
    "U = - mp*(g_vec.T*pp)\n",
    "L = T - U"
   ]
  },
  {
   "cell_type": "code",
   "execution_count": 8,
   "metadata": {},
   "outputs": [],
   "source": [
    "# mass matrix\n",
    "M = L.jacobian(qd).T.jacobian(qd)\n",
    "\n",
    "# Coriolis, centrifugal, and gravitational terms\n",
    "c = L.jacobian(qd).T.jacobian(q)*qd - L.jacobian(q).T\n",
    "\n",
    "# generalized forces\n",
    "Q = pc.jacobian(q).T*fc_vec + \\\n",
    "    pp.jacobian(q).T*flw_vec + \\\n",
    "    pp.jacobian(q).T*frw_vec"
   ]
  },
  {
   "cell_type": "code",
   "execution_count": 9,
   "metadata": {},
   "outputs": [],
   "source": [
    "# nonlinear dynamics\n",
    "rhs = M.inv()*(- c + Q)\n",
    "rhs.simplify()\n",
    "rhs = sp.Matrix([qd, rhs])"
   ]
  },
  {
   "cell_type": "code",
   "execution_count": 10,
   "metadata": {},
   "outputs": [
    {
     "name": "stdout",
     "output_type": "stream",
     "text": [
      "Matrix([[0, 0, 0], [0, 0, 0], [1.0/m_c, 0, 0], [1.0/(l*m_c), -1.0/(l*m_p), 1.0/(l*m_p)]])\n"
     ]
    }
   ],
   "source": [
    "# equibirium\n",
    "subs = {\n",
    "    **{xi: 0. for i, xi in enumerate(x)},\n",
    "    **{fi: 0. for i, fi in enumerate(f)}\n",
    "}\n",
    "\n",
    "# linearized dynamics\n",
    "A = rhs.jacobian(x).subs(subs)\n",
    "B = rhs.jacobian(f).subs(subs)\n",
    "A.simplify()\n",
    "B.simplify()\n",
    "print(B)"
   ]
  },
  {
   "cell_type": "code",
   "execution_count": 11,
   "metadata": {},
   "outputs": [
    {
     "data": {
      "text/latex": [
       "$\\displaystyle \\left[\\begin{matrix}1.0 m_{c} + 1.0 m_{p} & - 1.0 l m_{p} \\cos{\\left(q_{p} \\right)}\\\\- 1.0 l m_{p} \\cos{\\left(q_{p} \\right)} & 1.0 l^{2} m_{p}\\end{matrix}\\right]$"
      ],
      "text/plain": [
       "Matrix([\n",
       "[  1.0*m_c + 1.0*m_p, -1.0*l*m_p*cos(q_p)],\n",
       "[-1.0*l*m_p*cos(q_p),        1.0*l**2*m_p]])"
      ]
     },
     "execution_count": 11,
     "metadata": {},
     "output_type": "execute_result"
    }
   ],
   "source": [
    "M"
   ]
  },
  {
   "cell_type": "markdown",
   "metadata": {},
   "source": [
    "## Simulation"
   ]
  },
  {
   "cell_type": "code",
   "execution_count": 10,
   "metadata": {},
   "outputs": [],
   "source": [
    "stiffness = 100.\n",
    "damping = 30.\n",
    "gap_sym = {\n",
    "    'l': pp[0] + d,\n",
    "    'r': d - pp[0]\n",
    "}\n",
    "gap_nom = {k: v.subs(nominal_parameters) for k, v in gap_sym.items()}\n",
    "gap_fun = {k: lambdify([x], v, 'numpy') for k, v in gap_nom.items()}\n",
    "f_sym = {\n",
    "    'l': - stiffness*gap_sym['l'] - damping*vp[0],\n",
    "    'r': - stiffness*gap_sym['r'] + damping*vp[0]\n",
    "}\n",
    "f_nom = {k: v.subs(nominal_parameters) for k, v in f_sym.items()}\n",
    "f_fun = {k: lambdify([x], v, 'numpy') for k, v in f_nom.items()}"
   ]
  },
  {
   "cell_type": "code",
   "execution_count": 11,
   "metadata": {},
   "outputs": [],
   "source": [
    "rhs_nom = rhs.subs(nominal_parameters)\n",
    "rhs_fun = sp.utilities.lambdify([x, f], rhs_nom, 'numpy')\n",
    "\n",
    "def x_dot(x, fc):\n",
    "    inputs = [fc]\n",
    "    for wall in ['l','r']:\n",
    "        if gap_fun[wall](x) > 0. or f_fun[wall](x) < 0.:\n",
    "            inputs.append(0.)\n",
    "        else:\n",
    "            inputs.append(f_fun[wall](x))\n",
    "    return rhs_fun(x, inputs).flatten()\n",
    "\n",
    "def simulate(x, T, h, fc=0.):\n",
    "    x_list = [x]\n",
    "    for t in range(T):\n",
    "        x_list.append(x_list[-1] + h*x_dot(x_list[-1], fc))\n",
    "    return np.array(x_list)"
   ]
  },
  {
   "cell_type": "code",
   "execution_count": 31,
   "metadata": {},
   "outputs": [
    {
     "data": {
      "image/png": "[encoded data removed]",
      "text/plain": [
       "<Figure size 432x288 with 1 Axes>"
      ]
     },
     "metadata": {
      "needs_background": "light"
     },
     "output_type": "display_data"
    }
   ],
   "source": [
    "h_sim = .001\n",
    "T_sim = int(10./h_sim)\n",
    "x_list = simulate(np.array([0.,0.,5.,0.]), T_sim, h_sim, 1.)\n",
    "for i in range(len(x)):\n",
    "    plt.plot(np.linspace(0., T_sim*h_sim, T_sim+1), x_list[:,i])"
   ]
  },
  {
   "cell_type": "code",
   "execution_count": 18,
   "metadata": {},
   "outputs": [
    {
     "data": {
      "text/html": [
       "\n",
       "<div style=\"height: 400px; width: 600px; overflow-x: auto; overflow-y: hidden; resize: both\">\n",
       "<iframe src=\"http://127.0.0.1:7001/static/\" style=\"width: 100%; height: 100%; border: none\"></iframe>\n",
       "</div>\n"
      ],
      "text/plain": [
       "<IPython.core.display.HTML object>"
      ]
     },
     "execution_count": 18,
     "metadata": {},
     "output_type": "execute_result"
    }
   ],
   "source": [
    "from visualizer import vis, animate\n",
    "vis.jupyter_cell()"
   ]
  },
  {
   "cell_type": "code",
   "execution_count": 19,
   "metadata": {},
   "outputs": [],
   "source": [
    "animate(x_list, h_sim)"
   ]
  },
  {
   "cell_type": "code",
   "execution_count": null,
   "metadata": {},
   "outputs": [],
   "source": []
  }
 ],
 "metadata": {
  "kernelspec": {
   "display_name": "Python 3",
   "language": "python",
   "name": "python3"
  },
  "language_info": {
   "codemirror_mode": {
    "name": "ipython",
    "version": 3
   },
   "file_extension": ".py",
   "mimetype": "text/x-python",
   "name": "python",
   "nbconvert_exporter": "python",
   "pygments_lexer": "ipython3",
   "version": "3.7.3"
  }
 },
 "nbformat": 4,
 "nbformat_minor": 2
}
