{
 "cells": [
  {
   "cell_type": "code",
   "execution_count": 1,
   "metadata": {},
   "outputs": [
    {
     "name": "stdout",
     "output_type": "stream",
     "text": [
      "You can open the visualizer by visiting the following URL:\n",
      "http://127.0.0.1:7000/static/\n"
     ]
    }
   ],
   "source": [
    "# notebook settings\n",
    "%load_ext autoreload\n",
    "%autoreload 2\n",
    "\n",
    "# external imports\n",
    "import numpy as np\n",
    "import matplotlib.pyplot as plt\n",
    "\n",
    "# internal imports\n",
    "from mld_dynamics import mld, h, x_min, x_max, fc_min, fc_max, d, l\n",
    "from warm_start_hmpc.controller import HybridModelPredictiveController\n",
    "from warm_start_hmpc.mcais import solve_dare, mcais\n",
    "from visualizer import vis, animate"
   ]
  },
  {
   "cell_type": "code",
   "execution_count": 2,
   "metadata": {},
   "outputs": [
    {
     "name": "stdout",
     "output_type": "stream",
     "text": [
      "Using license file /Users/tobia/codes/gurobi.lic\n",
      "Academic license - for non-commercial use only\n",
      "Time horizon: 34. Convergence index: 0.000000. Number of facets: 162.\n",
      "Maximal constraint-admissible invariant set found. Removing redundant facets ... minimal facets are 102.\n"
     ]
    }
   ],
   "source": [
    "# controller horizon\n",
    "T = 20\n",
    "\n",
    "# weight matrices\n",
    "Q = np.eye(mld.nx) * h\n",
    "R = np.vstack([1.]+[0.]*(mld.nu - 1)).T * h\n",
    "\n",
    "# LQR terminal cost\n",
    "Bu = mld.B[:, :1]\n",
    "Ru = R[:, :1]\n",
    "P, K = solve_dare(mld.A, Bu, Q.dot(Q), Ru.dot(Ru))\n",
    "Q_T = np.linalg.cholesky(P).T\n",
    "objective = [Q, R, Q_T]\n",
    "\n",
    "# MCAIS terminal set\n",
    "A_cl = mld.A + Bu.dot(K)\n",
    "lhs = mld.F + mld.G[:, :1].dot(K)\n",
    "rhs = mld.h\n",
    "terminal_set = mcais(A_cl, lhs, rhs, verbose=True)\n",
    "\n",
    "# hybrid controller\n",
    "controller = HybridModelPredictiveController(mld, T, objective, terminal_set)"
   ]
  },
  {
   "cell_type": "code",
   "execution_count": 3,
   "metadata": {},
   "outputs": [],
   "source": [
    "# initial push towards the right wall\n",
    "x0 = np.array([0., 0., 1., 0.])"
   ]
  },
  {
   "cell_type": "markdown",
   "metadata": {},
   "source": [
    "## Solve in closed loop"
   ]
  },
  {
   "cell_type": "markdown",
   "metadata": {},
   "source": [
    "## Statistical Analysis"
   ]
  },
  {
   "cell_type": "code",
   "execution_count": 4,
   "metadata": {},
   "outputs": [
    {
     "name": "stdout",
     "output_type": "stream",
     "text": [
      "(0, 0)\r"
     ]
    },
    {
     "ename": "ValueError",
     "evalue": "too many values to unpack (expected 3)",
     "output_type": "error",
     "traceback": [
      "\u001b[0;31m---------------------------------------------------------------------------\u001b[0m",
      "\u001b[0;31mValueError\u001b[0m                                Traceback (most recent call last)",
      "\u001b[0;32m<ipython-input-4-cb4313124dc6>\u001b[0m in \u001b[0;36m<module>\u001b[0;34m\u001b[0m\n\u001b[1;32m     31\u001b[0m         x_gurobi, cost_gurobi, solver_time_gurobi = controller.feedforward_gurobi(\n\u001b[1;32m     32\u001b[0m             \u001b[0mx_sim\u001b[0m\u001b[0;34m[\u001b[0m\u001b[0;34m-\u001b[0m\u001b[0;36m1\u001b[0m\u001b[0;34m]\u001b[0m\u001b[0;34m,\u001b[0m\u001b[0;34m\u001b[0m\u001b[0;34m\u001b[0m\u001b[0m\n\u001b[0;32m---> 33\u001b[0;31m             \u001b[0;34m{\u001b[0m\u001b[0;34m'OutputFlag'\u001b[0m\u001b[0;34m:\u001b[0m \u001b[0;36m0\u001b[0m\u001b[0;34m}\u001b[0m\u001b[0;34m\u001b[0m\u001b[0;34m\u001b[0m\u001b[0m\n\u001b[0m\u001b[1;32m     34\u001b[0m         )\n\u001b[1;32m     35\u001b[0m         \u001b[0msolver_times_gurobi_i\u001b[0m\u001b[0;34m.\u001b[0m\u001b[0mappend\u001b[0m\u001b[0;34m(\u001b[0m\u001b[0msolver_time_gurobi\u001b[0m\u001b[0;34m)\u001b[0m\u001b[0;34m\u001b[0m\u001b[0;34m\u001b[0m\u001b[0m\n",
      "\u001b[0;31mValueError\u001b[0m: too many values to unpack (expected 3)"
     ]
    }
   ],
   "source": [
    "e_sd = 0.# 0.001, 0.003, 0.01, 0.03\n",
    "N_sim = 5#50\n",
    "N_samples = 1#100\n",
    "i = 0\n",
    "\n",
    "solver_times = []\n",
    "solver_times_ws = []\n",
    "solver_times_gurobi = []\n",
    "errors = []\n",
    "\n",
    "while len(solver_times) < N_samples:\n",
    "    np.random.seed(i)\n",
    "\n",
    "    rollout_success = True\n",
    "\n",
    "    solver_times_i = []\n",
    "    solver_times_ws_i = []\n",
    "    solver_times_gurobi_i = []\n",
    "    errors_i = []\n",
    "\n",
    "    x_sim = [x0]\n",
    "    ws = None\n",
    "\n",
    "    for t in range(N_sim):\n",
    "        print((i,t), end='\\r')\n",
    "\n",
    "#             # project previous state in feasible set\n",
    "#             x_prev = np.minimum(np.maximum(x_sim[-1], x_min), x_max)\n",
    "\n",
    "        # solve with gurobi\n",
    "        x_gurobi, cost_gurobi, solver_time_gurobi = controller.feedforward_gurobi(\n",
    "            x_sim[-1],\n",
    "            {'OutputFlag': 0}\n",
    "        )\n",
    "        solver_times_gurobi_i.append(solver_time_gurobi)\n",
    "\n",
    "        # solve without warm start\n",
    "        solution, leaves, solver_time = controller.feedforward(\n",
    "            x_sim[-1],\n",
    "            printing_period=None\n",
    "        )\n",
    "        solver_times_i.append(solver_time)\n",
    "\n",
    "        # solve with warm start\n",
    "        solution_ws, leaves_ws, solver_time_ws = controller.feedforward(\n",
    "            x_sim[-1],\n",
    "            warm_start=ws,\n",
    "            printing_period=None\n",
    "        )\n",
    "        solver_times_ws_i.append(solver_time_ws)\n",
    "\n",
    "        # check feasibility\n",
    "        if solution is None:\n",
    "            break\n",
    "        assert np.isclose(solution.objective, solution_ws.objective)\n",
    "#             assert np.isclose(solution.objective, cost_gurobi)\n",
    "\n",
    "        # generate random error of specified norm\n",
    "        e_t = e_sd * np.multiply(np.random.randn(mld.nx), x_max)\n",
    "        errors_i.append(e_t)\n",
    "\n",
    "        # generate warm start\n",
    "        ws = controller.construct_warm_start(\n",
    "            leaves_ws,\n",
    "            solution_ws.variables['x'][0],\n",
    "            solution.variables['uc'][0],\n",
    "            solution.variables['ub'][0],\n",
    "            e_t\n",
    "        )\n",
    "\n",
    "        # update state\n",
    "        x_sim.append(solution_ws.variables['x'][1] + e_t)\n",
    "\n",
    "        solver_times.append(solver_times_i)\n",
    "        solver_times_ws.append(solver_times_ws_i)\n",
    "        solver_times_gurobi.append(solver_times_gurobi_i)\n",
    "        errors.append(errors_i)\n",
    "\n",
    "    i += 1"
   ]
  },
  {
   "cell_type": "code",
   "execution_count": null,
   "metadata": {},
   "outputs": [],
   "source": [
    "solver_times"
   ]
  },
  {
   "cell_type": "code",
   "execution_count": null,
   "metadata": {},
   "outputs": [],
   "source": [
    "solver_times_ws"
   ]
  },
  {
   "cell_type": "code",
   "execution_count": null,
   "metadata": {},
   "outputs": [],
   "source": [
    "solver_times_gurobi"
   ]
  },
  {
   "cell_type": "code",
   "execution_count": null,
   "metadata": {},
   "outputs": [],
   "source": []
  }
 ],
 "metadata": {
  "kernelspec": {
   "display_name": "Python 3",
   "language": "python",
   "name": "python3"
  },
  "language_info": {
   "codemirror_mode": {
    "name": "ipython",
    "version": 3
   },
   "file_extension": ".py",
   "mimetype": "text/x-python",
   "name": "python",
   "nbconvert_exporter": "python",
   "pygments_lexer": "ipython3",
   "version": "3.7.6"
  }
 },
 "nbformat": 4,
 "nbformat_minor": 2
}
