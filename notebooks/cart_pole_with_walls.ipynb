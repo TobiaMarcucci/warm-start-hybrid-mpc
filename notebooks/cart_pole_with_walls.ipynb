{
 "cells": [
  {
   "cell_type": "code",
   "execution_count": null,
   "metadata": {},
   "outputs": [],
   "source": [
    "# notebook settings\n",
    "%load_ext autoreload\n",
    "%autoreload 2\n",
    "# %matplotlib notebook\n",
    "\n",
    "# external imports\n",
    "import os\n",
    "import numpy as np\n",
    "import sympy as sp\n",
    "import matplotlib.pyplot as plt\n",
    "\n",
    "# internal imports\n",
    "from cart_pole_with_walls import mld\n",
    "from warm_start_hmpc.controller import HybridModelPredictiveController\n",
    "from pympc.plot import plot_input_sequence, plot_state_trajectory, plot_output_trajectory"
   ]
  },
  {
   "cell_type": "code",
   "execution_count": null,
   "metadata": {},
   "outputs": [],
   "source": [
    "# controller horizon\n",
    "T = 25\n",
    "\n",
    "# weight matrices\n",
    "C = np.eye(mld.nx) * 1.\n",
    "C_T = np.eye(mld.nx) * 1.\n",
    "D = np.vstack([1.]+[0.]*(mld.nu - 1)).T * 1.\n",
    "objective = [C, D, C_T]\n",
    "\n",
    "# terminal constraints\n",
    "F_T = np.vstack((np.eye(mld.nx), - np.eye(mld.nx)))\n",
    "h_T = np.ones(2*mld.nx)*.1\n",
    "terminal_set = [F_T, h_T]\n",
    "\n",
    "# hybrid controller\n",
    "controller = HybridModelPredictiveController(mld, T, objective, terminal_set)"
   ]
  },
  {
   "cell_type": "code",
   "execution_count": null,
   "metadata": {},
   "outputs": [],
   "source": [
    "x0 = np.array([0., 0., 1., 0.])"
   ]
  },
  {
   "cell_type": "code",
   "execution_count": null,
   "metadata": {},
   "outputs": [],
   "source": [
    "# solve in open loop\n",
    "incumbent, leaves = controller.feedforward(x0, tree_file_name='tree')"
   ]
  },
  {
   "cell_type": "code",
   "execution_count": null,
   "metadata": {},
   "outputs": [],
   "source": [
    "plot_state_trajectory([xi[:2] for xi in incumbent.additional.primal.x], 0.05)"
   ]
  }
 ],
 "metadata": {
  "kernelspec": {
   "display_name": "Python 3",
   "language": "python",
   "name": "python3"
  },
  "language_info": {
   "codemirror_mode": {
    "name": "ipython",
    "version": 3
   },
   "file_extension": ".py",
   "mimetype": "text/x-python",
   "name": "python",
   "nbconvert_exporter": "python",
   "pygments_lexer": "ipython3",
   "version": "3.7.3"
  }
 },
 "nbformat": 4,
 "nbformat_minor": 2
}
